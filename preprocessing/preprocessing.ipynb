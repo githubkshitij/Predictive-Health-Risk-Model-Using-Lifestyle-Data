{
 "cells": [
  {
   "cell_type": "code",
   "execution_count": 111,
   "id": "68541de2",
   "metadata": {},
   "outputs": [],
   "source": [
    "from pyspark.sql import SparkSession"
   ]
  },
  {
   "cell_type": "code",
   "execution_count": 112,
   "id": "0292a197",
   "metadata": {},
   "outputs": [],
   "source": [
    "spark = SparkSession.builder \\\n",
    "    .appName(\"DataCleaning\") \\\n",
    "    .getOrCreate()\n"
   ]
  },
  {
   "cell_type": "code",
   "execution_count": 113,
   "id": "a60d95f1",
   "metadata": {},
   "outputs": [],
   "source": [
    "df = spark.read.csv(r\"C:\\Users\\muham\\Downloads\\final csv uncleaned.csv\", header=True, inferSchema=True)\n"
   ]
  },
  {
   "cell_type": "code",
   "execution_count": 39,
   "id": "39101d4c",
   "metadata": {},
   "outputs": [
    {
     "name": "stdout",
     "output_type": "stream",
     "text": [
      "root\n",
      " |-- State: string (nullable = true)\n",
      " |-- Sex: string (nullable = true)\n",
      " |-- GeneralHealth: string (nullable = true)\n",
      " |-- PhysicalHealthDays: double (nullable = true)\n",
      " |-- MentalHealthDays: double (nullable = true)\n",
      " |-- LastCheckupTime: string (nullable = true)\n",
      " |-- PhysicalActivities: string (nullable = true)\n",
      " |-- SleepHours: double (nullable = true)\n",
      " |-- RemovedTeeth: string (nullable = true)\n",
      " |-- HadHeartAttack: string (nullable = true)\n",
      " |-- HadAngina: string (nullable = true)\n",
      " |-- HadStroke: string (nullable = true)\n",
      " |-- HadAsthma: string (nullable = true)\n",
      " |-- HadSkinCancer: string (nullable = true)\n",
      " |-- HadCOPD: string (nullable = true)\n",
      " |-- HadDepressiveDisorder: string (nullable = true)\n",
      " |-- HadKidneyDisease: string (nullable = true)\n",
      " |-- HadArthritis: string (nullable = true)\n",
      " |-- HadDiabetes: string (nullable = true)\n",
      " |-- DeafOrHardOfHearing: string (nullable = true)\n",
      " |-- BlindOrVisionDifficulty: string (nullable = true)\n",
      " |-- DifficultyConcentrating: string (nullable = true)\n",
      " |-- DifficultyWalking: string (nullable = true)\n",
      " |-- DifficultyDressingBathing: string (nullable = true)\n",
      " |-- DifficultyErrands: string (nullable = true)\n",
      " |-- SmokerStatus: string (nullable = true)\n",
      " |-- ECigaretteUsage: string (nullable = true)\n",
      " |-- ChestScan: string (nullable = true)\n",
      " |-- RaceEthnicityCategory: string (nullable = true)\n",
      " |-- AgeCategory: string (nullable = true)\n",
      " |-- HeightInMeters: double (nullable = true)\n",
      " |-- WeightInKilograms: double (nullable = true)\n",
      " |-- BMI: double (nullable = true)\n",
      " |-- AlcoholDrinkers: string (nullable = true)\n",
      " |-- HIVTesting: string (nullable = true)\n",
      " |-- FluVaxLast12: string (nullable = true)\n",
      " |-- PneumoVaxEver: string (nullable = true)\n",
      " |-- TetanusLast10Tdap: string (nullable = true)\n",
      " |-- HighRiskLastYear: string (nullable = true)\n",
      " |-- CovidPos: string (nullable = true)\n",
      "\n",
      "+-------+------+-------------+------------------+----------------+--------------------+------------------+-----------+--------------------+--------------+---------+---------+---------+-------------+-------+---------------------+----------------+------------+-----------+-------------------+-----------------------+-----------------------+-----------------+-------------------------+-----------------+--------------------+--------------------+---------+---------------------+---------------+--------------+-----------------+-----+---------------+----------+------------+-------------+--------------------+----------------+--------+\n",
      "|  State|   Sex|GeneralHealth|PhysicalHealthDays|MentalHealthDays|     LastCheckupTime|PhysicalActivities| SleepHours|        RemovedTeeth|HadHeartAttack|HadAngina|HadStroke|HadAsthma|HadSkinCancer|HadCOPD|HadDepressiveDisorder|HadKidneyDisease|HadArthritis|HadDiabetes|DeafOrHardOfHearing|BlindOrVisionDifficulty|DifficultyConcentrating|DifficultyWalking|DifficultyDressingBathing|DifficultyErrands|        SmokerStatus|     ECigaretteUsage|ChestScan|RaceEthnicityCategory|    AgeCategory|HeightInMeters|WeightInKilograms|  BMI|AlcoholDrinkers|HIVTesting|FluVaxLast12|PneumoVaxEver|   TetanusLast10Tdap|HighRiskLastYear|CovidPos|\n",
      "+-------+------+-------------+------------------+----------------+--------------------+------------------+-----------+--------------------+--------------+---------+---------+---------+-------------+-------+---------------------+----------------+------------+-----------+-------------------+-----------------------+-----------------------+-----------------+-------------------------+-----------------+--------------------+--------------------+---------+---------------------+---------------+--------------+-----------------+-----+---------------+----------+------------+-------------+--------------------+----------------+--------+\n",
      "|Alabama|Female|    Very good|        3.87164069|             0.0|Within past year ...|               Yes|8.795436938|        None of them|            No|       No|       No|       No|           No|     No|                   No|              No|         Yes|         No|                 No|                     No|                     No|               No|                       No|               No|       Former smoker|Never used e-ciga...|       No| White only, Non-H...|   Age 65 to 69|           1.6|            71.67|27.99|             No|        No|         Yes|          Yes|  Yes, received Tdap|              No|      No|\n",
      "|Alabama|  Male|    Very good|               0.0|             0.0|Within past year ...|               Yes|5.275804467|        None of them|            No|       No|       No|       No|           No|     No|                   No|              No|         Yes|        Yes|                 No|                     No|                     No|               No|                       No|               No|       Former smoker|Never used e-ciga...|       No| White only, Non-H...|   Age 70 to 74|          1.78|            95.25|30.13|             No|        No|         Yes|          Yes|Yes, received tet...|              No|      No|\n",
      "| Albama|  Male|    Very good|               0.0|            NULL|Within past year ...|                No|6.334422721|6 or more, but no...|            No|       No|       No|       No|           No|     No|                   No|              No|         Yes|         No|                 No|                    Yes|                     No|              Yes|                       No|               No|       Former smoker|Never used e-ciga...|      Yes| White only, Non-H...|   Age 75 to 79|          1.85|           108.86|31.66|            Yes|        No|          No|          Yes|No, did not recei...|              No|     Yes|\n",
      "|Alabama|Female|         Fair|       5.559779784|             0.0|Within past year ...|               Yes| 7.33261662|        None of them|            No|       No|       No|       No|          Yes|     No|                  Yes|              No|         Yes|         No|                 No|                     No|                     No|              Yes|                       No|               No|        Never smoked|Never used e-ciga...|       No| White only, Non-H...|Age 80 or older|           1.7|            90.72|31.32|             No|        No|         Yes|          Yes|No, did not recei...|              No|     Yes|\n",
      "|Alabama|Female|         Good|       2.553411659|     11.91523838|Within past year ...|               Yes|5.072408628|              1 to 5|            No|       No|       No|       No|           No|     No|                   No|              No|         Yes|         No|                 No|                     No|                     No|               No|                       No|               No|        Never smoked|Never used e-ciga...|       No| White only, Non-H...|Age 80 or older|          1.55|            79.38|33.07|             No|        No|         Yes|          Yes|No, did not recei...|              No|      No|\n",
      "|Alabama|  Male|         Good|               0.0|             0.0|Within past year ...|               Yes|7.395749138|        None of them|            No|       No|       No|       No|           No|     No|                   No|              No|          No|         No|                 No|                     No|                     No|               No|                       No|               No|        Never smoked|Never used e-ciga...|      Yes| White only, Non-H...|   Age 50 to 54|          1.85|            120.2|34.96|            Yes|       Yes|         Yes|           No|Yes, received tet...|              No|      No|\n",
      "|Alabama|Female|         Good|       2.943743997|             0.0|Within past year ...|               Yes|8.525055259|6 or more, but no...|            No|       No|      Yes|       No|           No|     No|                   No|              No|          No|        Yes|                 No|                     No|                     No|               No|                       No|               No|        Never smoked|Never used e-ciga...|      Yes| Black only, Non-H...|Age 80 or older|          1.63|             88.0| 33.3|             No|        No|         Yes|          Yes|No, did not recei...|              No|      No|\n",
      "|   NULL|  Male|         Fair|       5.306235546|             0.0|Within past year ...|               Yes|7.110996683|              1 to 5|           Yes|      Yes|       No|       No|          Yes|     No|                   No|              No|         Yes|        Yes|                 No|                     No|                     No|               No|                       No|               No|        Never smoked|Never used e-ciga...|      Yes| White only, Non-H...|   Age 75 to 79|          1.75|            74.84|24.37|             No|       Yes|         Yes|          Yes|No, did not recei...|              No|     Yes|\n",
      "|Alabama|  Male|         Good|       1.950635385|             0.0| 5 or more years ago|                No|6.430666831|        None of them|            No|       No|       No|       No|           No|     No|                   No|              No|         Yes|         No|                Yes|                     No|                     No|               No|                       No|               No|       Former smoker|Never used e-ciga...|      Yes| White only, Non-H...|   Age 40 to 44|           1.7|            78.02|26.94|             No|        No|          No|           No|No, did not recei...|              No|     Yes|\n",
      "|Alabama|Female|    Very good|               0.0|             0.0|Within past year ...|               Yes|5.801939167|        None of them|            No|       No|       No|      Yes|          Yes|     No|                   No|              No|         Yes|         No|                 No|                     No|                     No|               No|                       No|               No|       Former smoker|Never used e-ciga...|      Yes| White only, Non-H...|   Age 75 to 79|          1.68|             63.5| 22.6|             No|        No|         Yes|          Yes|No, did not recei...|              No|      No|\n",
      "|Alabama|  Male|    Very good|               0.0|             0.0|                NULL|               Yes|8.695583486|              1 to 5|            No|       No|       No|       No|           No|     No|                   No|              No|          No|         No|                 No|                     No|                     No|               No|                       No|               No|        Never smoked|Never used e-ciga...|      Yes| White only, Non-H...|Age 80 or older|          1.83|           122.47|36.62|            Yes|        No|         Yes|          Yes|  Yes, received Tdap|              No|      No|\n",
      "|Alabama|Female|         NULL|       3.181993152|     4.564655244|Within past year ...|               Yes|4.287274834|        None of them|            No|       No|       No|       No|           No|     No|                   No|              No|         Yes|        Yes|                 No|                     No|                     No|              Yes|                       No|               No|        Never smoked|Never used e-ciga...|       No| White only, Non-H...|   Age 60 to 64|          1.52|           108.86|46.87|             No|        No|          No|           No|Yes, received tet...|              No|     Yes|\n",
      "|Alabama|  Male|         Good|       5.722332305|             0.0|Within past year ...|               Yes|5.371884256|6 or more, but no...|           Yes|       No|       No|       No|          Yes|     No|                   No|              No|         Yes|         No|                 No|                     No|                    Yes|              Yes|                       No|               No|Current smoker - ...|  Use them some days|      Yes| White only, Non-H...|   Age 60 to 64|          1.88|           115.67|32.74|             No|        No|         Yes|          Yes|Yes, received tet...|              No|      No|\n",
      "|Alabama|Female|         Good|               0.0|             0.0|Within past year ...|                No|6.094052525|              1 to 5|            No|       No|       No|       No|           No|     No|                   No|              No|          No|         No|                 No|                     No|                     No|               No|                       No|               No|       Former smoker|Never used e-ciga...|       No| White only, Non-H...|   Age 60 to 64|          1.52|            81.65|35.15|             No|        No|          No|           No|  Yes, received Tdap|              No|      No|\n",
      "| Albama|  Male|         Fair|       29.13116009|     22.65216877|Within past year ...|                No|5.532126549|6 or more, but no...|            No|      Yes|       No|       No|           No|     No|                  Yes|             Yes|         Yes|         No|                Yes|                     No|                    Yes|              Yes|                      Yes|               No|        Never smoked|Never used e-ciga...|      Yes| White only, Non-H...|   Age 70 to 74|          1.78|            86.18|27.26|             No|        No|         Yes|           No|No, did not recei...|              No|     Yes|\n",
      "|Alabama|Female|         Good|               0.0|     14.49117041|Within past year ...|               Yes|6.690710909|                 All|            No|       No|       No|       No|           No|     No|                  Yes|              No|          No|        Yes|                 No|                     No|                     No|               No|                       No|               No|       Former smoker|Never used e-ciga...|      Yes| White only, Non-H...|Age 80 or older|           1.5|             63.5|28.28|             No|        No|         Yes|          Yes|No, did not recei...|              No|     Yes|\n",
      "|Alabama|Female|         Good|               0.0|             0.0|Within past year ...|               Yes|6.858825023|                 All|            No|       No|       No|      Yes|           No|     No|                   No|              No|          No|         No|                 No|                     No|                     No|               No|                       No|               No|Current smoker - ...|Never used e-ciga...|      Yes| White only, Non-H...|   Age 65 to 69|          1.73|             76.2|25.54|             No|        No|         Yes|          Yes|  Yes, received Tdap|              No|      No|\n",
      "|Alabama|Female|         Good|               0.0|             0.0|Within past year ...|                No|10.72279247|                 All|            No|       No|       No|       No|           No|     No|                   No|              No|          No|         No|                 No|                     No|                     No|              Yes|                       No|               No|Current smoker - ...|Never used e-ciga...|      Yes| White only, Non-H...|   Age 70 to 74|          1.65|            54.88|20.14|            Yes|        No|         Yes|          Yes|No, did not recei...|              No|      No|\n",
      "|Alabama|Female|    Excellent|               0.0|             0.0|Within past year ...|               Yes|5.044732343|6 or more, but no...|            No|       No|      Yes|       No|           No|     No|                   No|              No|          No|        Yes|                 No|                     No|                     No|               No|                       No|               No|        Never smoked|Never used e-ciga...|       No| Black only, Non-H...|   Age 60 to 64|           1.7|            72.57|25.06|             No|        No|         Yes|           No|No, did not recei...|              No|      No|\n",
      "|Alabama|  Male|         Poor|       29.19922522|             0.0|Within past year ...|                No|8.911559558|              1 to 5|            No|       No|       No|       No|          Yes|     No|                   No|             Yes|         Yes|         No|                 No|                     No|                    Yes|              Yes|                      Yes|              Yes|       Former smoker|Never used e-ciga...|       No| White only, Non-H...|Age 80 or older|           1.8|            88.45| 27.2|             No|        No|         Yes|           No|No, did not recei...|              No|      No|\n",
      "+-------+------+-------------+------------------+----------------+--------------------+------------------+-----------+--------------------+--------------+---------+---------+---------+-------------+-------+---------------------+----------------+------------+-----------+-------------------+-----------------------+-----------------------+-----------------+-------------------------+-----------------+--------------------+--------------------+---------+---------------------+---------------+--------------+-----------------+-----+---------------+----------+------------+-------------+--------------------+----------------+--------+\n",
      "only showing top 20 rows\n",
      "\n"
     ]
    }
   ],
   "source": [
    "df.printSchema()\n",
    "df.show() \n"
   ]
  },
  {
   "cell_type": "code",
   "execution_count": 40,
   "id": "471c0979",
   "metadata": {},
   "outputs": [
    {
     "name": "stdout",
     "output_type": "stream",
     "text": [
      "+--------------------+\n",
      "|state               |\n",
      "+--------------------+\n",
      "|Arkansas            |\n",
      "|Calfornia           |\n",
      "|Alaska              |\n",
      "|Albama              |\n",
      "|Alabama             |\n",
      "|Arizona             |\n",
      "|California          |\n",
      "|Colorado            |\n",
      "|Connecticut         |\n",
      "|District of Columbia|\n",
      "|Delaware            |\n",
      "|Georgia             |\n",
      "|Florida             |\n",
      "|Hawaii              |\n",
      "|Illinois            |\n",
      "|Iowa                |\n",
      "|Indiana             |\n",
      "|Idaho               |\n",
      "|Huwaii              |\n",
      "|Kansas              |\n",
      "+--------------------+\n",
      "only showing top 20 rows\n",
      "\n"
     ]
    }
   ],
   "source": [
    "# Get distinct values in the State column\n",
    "distinct_states = df.select(\"state\").distinct()\n",
    "\n",
    "# Show the distinct values\n",
    "distinct_states.show(truncate=False)\n"
   ]
  },
  {
   "cell_type": "code",
   "execution_count": 41,
   "id": "2036c1e9",
   "metadata": {},
   "outputs": [
    {
     "name": "stdout",
     "output_type": "stream",
     "text": [
      "Arkansas\n",
      "Calfornia\n",
      "Alaska\n",
      "Albama\n",
      "Alabama\n",
      "Arizona\n",
      "California\n",
      "Colorado\n",
      "Connecticut\n",
      "District of Columbia\n",
      "Delaware\n",
      "Georgia\n",
      "Florida\n",
      "Hawaii\n",
      "Illinois\n",
      "Iowa\n",
      "Indiana\n",
      "Idaho\n",
      "Huwaii\n",
      "Kansas\n",
      "Maryland\n",
      "Kentucky\n",
      "Louisiana\n",
      "Maine\n",
      "Minnesota\n",
      "Michigan\n",
      "Massachusetts\n",
      "Nebraska\n",
      "Nevada\n",
      "Missouri\n",
      "Montana\n",
      "Mississippi\n",
      "New Hampshire\n",
      "New Mexico\n",
      "North Carolina\n",
      "New Jersey\n",
      "New York\n",
      "Ohio\n",
      "Oregon\n",
      "North Dakota\n",
      "Pennsylvania\n",
      "Oklahoma\n",
      "Rhode Island\n",
      "Utah\n",
      "Texas\n",
      "Tennessee\n",
      "South Carolina\n",
      "South Dakota\n",
      "Vermont\n",
      "Washington\n",
      "Vormont\n",
      "Virginia\n",
      "Puerto Rico\n",
      "West Virginia\n",
      "Guam\n",
      "Wyoming\n",
      "Wisconsin\n",
      "Virgin Islands\n",
      "None\n"
     ]
    }
   ],
   "source": [
    "# Get all distinct values in the State column\n",
    "distinct_states = df.select(\"state\").distinct()\n",
    "\n",
    "# Collect the distinct values as a list\n",
    "all_distinct_states = distinct_states.collect()\n",
    "\n",
    "# Print all distinct values\n",
    "for state in all_distinct_states:\n",
    "    print(state[\"state\"])\n"
   ]
  },
  {
   "cell_type": "code",
   "execution_count": 42,
   "id": "f53d2442",
   "metadata": {
    "scrolled": true
   },
   "outputs": [
    {
     "name": "stdout",
     "output_type": "stream",
     "text": [
      "Count of distinct values in the State column: 59\n",
      "Arkansas\n",
      "Calfornia\n",
      "Alaska\n",
      "Albama\n",
      "Alabama\n",
      "Arizona\n",
      "California\n",
      "Colorado\n",
      "Connecticut\n",
      "District of Columbia\n",
      "Delaware\n",
      "Georgia\n",
      "Florida\n",
      "Hawaii\n",
      "Illinois\n",
      "Iowa\n",
      "Indiana\n",
      "Idaho\n",
      "Huwaii\n",
      "Kansas\n",
      "Maryland\n",
      "Kentucky\n",
      "Louisiana\n",
      "Maine\n",
      "Minnesota\n",
      "Michigan\n",
      "Massachusetts\n",
      "Nebraska\n",
      "Nevada\n",
      "Missouri\n",
      "Montana\n",
      "Mississippi\n",
      "New Hampshire\n",
      "New Mexico\n",
      "North Carolina\n",
      "New Jersey\n",
      "New York\n",
      "Ohio\n",
      "Oregon\n",
      "North Dakota\n",
      "Pennsylvania\n",
      "Oklahoma\n",
      "Rhode Island\n",
      "Utah\n",
      "Texas\n",
      "Tennessee\n",
      "South Carolina\n",
      "South Dakota\n",
      "Vermont\n",
      "Washington\n",
      "Vormont\n",
      "Virginia\n",
      "Puerto Rico\n",
      "West Virginia\n",
      "Guam\n",
      "Wyoming\n",
      "Wisconsin\n",
      "Virgin Islands\n",
      "None\n"
     ]
    }
   ],
   "source": [
    "# Get all distinct values in the State column\n",
    "distinct_states = df.select(\"State\").distinct()\n",
    "\n",
    "# Count the number of distinct values\n",
    "distinct_states_count = distinct_states.count()\n",
    "\n",
    "# Collect the distinct values as a list\n",
    "all_distinct_states = distinct_states.collect()\n",
    "\n",
    "# Print the count of distinct values\n",
    "print(f\"Count of distinct values in the State column: {distinct_states_count}\")\n",
    "\n",
    "# Print all distinct values\n",
    "for state in all_distinct_states:\n",
    "    print(state[\"State\"])\n"
   ]
  },
  {
   "cell_type": "code",
   "execution_count": 47,
   "id": "befe4714",
   "metadata": {},
   "outputs": [
    {
     "name": "stdout",
     "output_type": "stream",
     "text": [
      "+-------+------+-------------+------------------+----------------+--------------------+------------------+-----------+--------------------+--------------+---------+---------+---------+-------------+-------+---------------------+----------------+------------+-----------+-------------------+-----------------------+-----------------------+-----------------+-------------------------+-----------------+--------------------+--------------------+---------+---------------------+---------------+--------------+-----------------+-----+---------------+----------+------------+-------------+--------------------+----------------+--------+\n",
      "|  State|   Sex|GeneralHealth|PhysicalHealthDays|MentalHealthDays|     LastCheckupTime|PhysicalActivities| SleepHours|        RemovedTeeth|HadHeartAttack|HadAngina|HadStroke|HadAsthma|HadSkinCancer|HadCOPD|HadDepressiveDisorder|HadKidneyDisease|HadArthritis|HadDiabetes|DeafOrHardOfHearing|BlindOrVisionDifficulty|DifficultyConcentrating|DifficultyWalking|DifficultyDressingBathing|DifficultyErrands|        SmokerStatus|     ECigaretteUsage|ChestScan|RaceEthnicityCategory|    AgeCategory|HeightInMeters|WeightInKilograms|  BMI|AlcoholDrinkers|HIVTesting|FluVaxLast12|PneumoVaxEver|   TetanusLast10Tdap|HighRiskLastYear|CovidPos|\n",
      "+-------+------+-------------+------------------+----------------+--------------------+------------------+-----------+--------------------+--------------+---------+---------+---------+-------------+-------+---------------------+----------------+------------+-----------+-------------------+-----------------------+-----------------------+-----------------+-------------------------+-----------------+--------------------+--------------------+---------+---------------------+---------------+--------------+-----------------+-----+---------------+----------+------------+-------------+--------------------+----------------+--------+\n",
      "|Alabama|Female|    Very good|        3.87164069|             0.0|Within past year ...|               Yes|8.795436938|        None of them|            No|       No|       No|       No|           No|     No|                   No|              No|         Yes|         No|                 No|                     No|                     No|               No|                       No|               No|       Former smoker|Never used e-ciga...|       No| White only, Non-H...|   Age 65 to 69|           1.6|            71.67|27.99|             No|        No|         Yes|          Yes|  Yes, received Tdap|              No|      No|\n",
      "|Alabama|  Male|    Very good|               0.0|             0.0|Within past year ...|               Yes|5.275804467|        None of them|            No|       No|       No|       No|           No|     No|                   No|              No|         Yes|        Yes|                 No|                     No|                     No|               No|                       No|               No|       Former smoker|Never used e-ciga...|       No| White only, Non-H...|   Age 70 to 74|          1.78|            95.25|30.13|             No|        No|         Yes|          Yes|Yes, received tet...|              No|      No|\n",
      "| Albama|  Male|    Very good|               0.0|            NULL|Within past year ...|                No|6.334422721|6 or more, but no...|            No|       No|       No|       No|           No|     No|                   No|              No|         Yes|         No|                 No|                    Yes|                     No|              Yes|                       No|               No|       Former smoker|Never used e-ciga...|      Yes| White only, Non-H...|   Age 75 to 79|          1.85|           108.86|31.66|            Yes|        No|          No|          Yes|No, did not recei...|              No|     Yes|\n",
      "|Alabama|Female|         Fair|       5.559779784|             0.0|Within past year ...|               Yes| 7.33261662|        None of them|            No|       No|       No|       No|          Yes|     No|                  Yes|              No|         Yes|         No|                 No|                     No|                     No|              Yes|                       No|               No|        Never smoked|Never used e-ciga...|       No| White only, Non-H...|Age 80 or older|           1.7|            90.72|31.32|             No|        No|         Yes|          Yes|No, did not recei...|              No|     Yes|\n",
      "|Alabama|Female|         Good|       2.553411659|     11.91523838|Within past year ...|               Yes|5.072408628|              1 to 5|            No|       No|       No|       No|           No|     No|                   No|              No|         Yes|         No|                 No|                     No|                     No|               No|                       No|               No|        Never smoked|Never used e-ciga...|       No| White only, Non-H...|Age 80 or older|          1.55|            79.38|33.07|             No|        No|         Yes|          Yes|No, did not recei...|              No|      No|\n",
      "|Alabama|  Male|         Good|               0.0|             0.0|Within past year ...|               Yes|7.395749138|        None of them|            No|       No|       No|       No|           No|     No|                   No|              No|          No|         No|                 No|                     No|                     No|               No|                       No|               No|        Never smoked|Never used e-ciga...|      Yes| White only, Non-H...|   Age 50 to 54|          1.85|            120.2|34.96|            Yes|       Yes|         Yes|           No|Yes, received tet...|              No|      No|\n",
      "|Alabama|Female|         Good|       2.943743997|             0.0|Within past year ...|               Yes|8.525055259|6 or more, but no...|            No|       No|      Yes|       No|           No|     No|                   No|              No|          No|        Yes|                 No|                     No|                     No|               No|                       No|               No|        Never smoked|Never used e-ciga...|      Yes| Black only, Non-H...|Age 80 or older|          1.63|             88.0| 33.3|             No|        No|         Yes|          Yes|No, did not recei...|              No|      No|\n",
      "|Alabama|  Male|         Good|       1.950635385|             0.0| 5 or more years ago|                No|6.430666831|        None of them|            No|       No|       No|       No|           No|     No|                   No|              No|         Yes|         No|                Yes|                     No|                     No|               No|                       No|               No|       Former smoker|Never used e-ciga...|      Yes| White only, Non-H...|   Age 40 to 44|           1.7|            78.02|26.94|             No|        No|          No|           No|No, did not recei...|              No|     Yes|\n",
      "|Alabama|Female|    Very good|               0.0|             0.0|Within past year ...|               Yes|5.801939167|        None of them|            No|       No|       No|      Yes|          Yes|     No|                   No|              No|         Yes|         No|                 No|                     No|                     No|               No|                       No|               No|       Former smoker|Never used e-ciga...|      Yes| White only, Non-H...|   Age 75 to 79|          1.68|             63.5| 22.6|             No|        No|         Yes|          Yes|No, did not recei...|              No|      No|\n",
      "|Alabama|  Male|    Very good|               0.0|             0.0|                NULL|               Yes|8.695583486|              1 to 5|            No|       No|       No|       No|           No|     No|                   No|              No|          No|         No|                 No|                     No|                     No|               No|                       No|               No|        Never smoked|Never used e-ciga...|      Yes| White only, Non-H...|Age 80 or older|          1.83|           122.47|36.62|            Yes|        No|         Yes|          Yes|  Yes, received Tdap|              No|      No|\n",
      "|Alabama|Female|         NULL|       3.181993152|     4.564655244|Within past year ...|               Yes|4.287274834|        None of them|            No|       No|       No|       No|           No|     No|                   No|              No|         Yes|        Yes|                 No|                     No|                     No|              Yes|                       No|               No|        Never smoked|Never used e-ciga...|       No| White only, Non-H...|   Age 60 to 64|          1.52|           108.86|46.87|             No|        No|          No|           No|Yes, received tet...|              No|     Yes|\n",
      "|Alabama|  Male|         Good|       5.722332305|             0.0|Within past year ...|               Yes|5.371884256|6 or more, but no...|           Yes|       No|       No|       No|          Yes|     No|                   No|              No|         Yes|         No|                 No|                     No|                    Yes|              Yes|                       No|               No|Current smoker - ...|  Use them some days|      Yes| White only, Non-H...|   Age 60 to 64|          1.88|           115.67|32.74|             No|        No|         Yes|          Yes|Yes, received tet...|              No|      No|\n",
      "|Alabama|Female|         Good|               0.0|             0.0|Within past year ...|                No|6.094052525|              1 to 5|            No|       No|       No|       No|           No|     No|                   No|              No|          No|         No|                 No|                     No|                     No|               No|                       No|               No|       Former smoker|Never used e-ciga...|       No| White only, Non-H...|   Age 60 to 64|          1.52|            81.65|35.15|             No|        No|          No|           No|  Yes, received Tdap|              No|      No|\n",
      "| Albama|  Male|         Fair|       29.13116009|     22.65216877|Within past year ...|                No|5.532126549|6 or more, but no...|            No|      Yes|       No|       No|           No|     No|                  Yes|             Yes|         Yes|         No|                Yes|                     No|                    Yes|              Yes|                      Yes|               No|        Never smoked|Never used e-ciga...|      Yes| White only, Non-H...|   Age 70 to 74|          1.78|            86.18|27.26|             No|        No|         Yes|           No|No, did not recei...|              No|     Yes|\n",
      "|Alabama|Female|         Good|               0.0|     14.49117041|Within past year ...|               Yes|6.690710909|                 All|            No|       No|       No|       No|           No|     No|                  Yes|              No|          No|        Yes|                 No|                     No|                     No|               No|                       No|               No|       Former smoker|Never used e-ciga...|      Yes| White only, Non-H...|Age 80 or older|           1.5|             63.5|28.28|             No|        No|         Yes|          Yes|No, did not recei...|              No|     Yes|\n",
      "|Alabama|Female|         Good|               0.0|             0.0|Within past year ...|               Yes|6.858825023|                 All|            No|       No|       No|      Yes|           No|     No|                   No|              No|          No|         No|                 No|                     No|                     No|               No|                       No|               No|Current smoker - ...|Never used e-ciga...|      Yes| White only, Non-H...|   Age 65 to 69|          1.73|             76.2|25.54|             No|        No|         Yes|          Yes|  Yes, received Tdap|              No|      No|\n",
      "|Alabama|Female|         Good|               0.0|             0.0|Within past year ...|                No|10.72279247|                 All|            No|       No|       No|       No|           No|     No|                   No|              No|          No|         No|                 No|                     No|                     No|              Yes|                       No|               No|Current smoker - ...|Never used e-ciga...|      Yes| White only, Non-H...|   Age 70 to 74|          1.65|            54.88|20.14|            Yes|        No|         Yes|          Yes|No, did not recei...|              No|      No|\n",
      "|Alabama|Female|    Excellent|               0.0|             0.0|Within past year ...|               Yes|5.044732343|6 or more, but no...|            No|       No|      Yes|       No|           No|     No|                   No|              No|          No|        Yes|                 No|                     No|                     No|               No|                       No|               No|        Never smoked|Never used e-ciga...|       No| Black only, Non-H...|   Age 60 to 64|           1.7|            72.57|25.06|             No|        No|         Yes|           No|No, did not recei...|              No|      No|\n",
      "|Alabama|  Male|         Poor|       29.19922522|             0.0|Within past year ...|                No|8.911559558|              1 to 5|            No|       No|       No|       No|          Yes|     No|                   No|             Yes|         Yes|         No|                 No|                     No|                    Yes|              Yes|                      Yes|              Yes|       Former smoker|Never used e-ciga...|       No| White only, Non-H...|Age 80 or older|           1.8|            88.45| 27.2|             No|        No|         Yes|           No|No, did not recei...|              No|      No|\n",
      "|Alabama|Female|         Fair|       34.28184389|             0.0|Within past year ...|                No|6.882359885|6 or more, but no...|            No|      Yes|       No|       No|           No|    Yes|                  Yes|              No|         Yes|         No|                Yes|                     No|                    Yes|               No|                       No|               No|        Never smoked|Never used e-ciga...|      Yes| Black only, Non-H...|   Age 70 to 74|          1.52|             63.5|27.34|             No|        No|         Yes|          Yes|No, did not recei...|              No|      No|\n",
      "+-------+------+-------------+------------------+----------------+--------------------+------------------+-----------+--------------------+--------------+---------+---------+---------+-------------+-------+---------------------+----------------+------------+-----------+-------------------+-----------------------+-----------------------+-----------------+-------------------------+-----------------+--------------------+--------------------+---------+---------------------+---------------+--------------+-----------------+-----+---------------+----------+------------+-------------+--------------------+----------------+--------+\n",
      "only showing top 20 rows\n",
      "\n",
      "Count of distinct values in the State column after removing None: 58\n",
      "Distinct states:\n",
      "Arkansas\n",
      "Calfornia\n",
      "Alaska\n",
      "Albama\n",
      "Alabama\n",
      "Arizona\n",
      "California\n",
      "Colorado\n",
      "Connecticut\n",
      "District of Columbia\n",
      "Delaware\n",
      "Georgia\n",
      "Florida\n",
      "Hawaii\n",
      "Illinois\n",
      "Iowa\n",
      "Indiana\n",
      "Idaho\n",
      "Huwaii\n",
      "Kansas\n",
      "Maryland\n",
      "Kentucky\n",
      "Louisiana\n",
      "Maine\n",
      "Minnesota\n",
      "Michigan\n",
      "Massachusetts\n",
      "Nebraska\n",
      "Nevada\n",
      "Missouri\n",
      "Montana\n",
      "Mississippi\n",
      "New Hampshire\n",
      "New Mexico\n",
      "North Carolina\n",
      "New Jersey\n",
      "New York\n",
      "Ohio\n",
      "Oregon\n",
      "North Dakota\n",
      "Pennsylvania\n",
      "Oklahoma\n",
      "Rhode Island\n",
      "Utah\n",
      "Texas\n",
      "Tennessee\n",
      "South Carolina\n",
      "South Dakota\n",
      "Vermont\n",
      "Washington\n",
      "Vormont\n",
      "Virginia\n",
      "Puerto Rico\n",
      "West Virginia\n",
      "Guam\n",
      "Wyoming\n",
      "Wisconsin\n",
      "Virgin Islands\n"
     ]
    }
   ],
   "source": [
    "# Filter out rows where State is None (null)\n",
    "cleaned_df = df.filter(df[\"State\"].isNotNull())\n",
    "\n",
    "# Show the resulting DataFrame\n",
    "cleaned_df.show()\n",
    "\n",
    "# Get all distinct values in the State column from the cleaned DataFrame\n",
    "distinct_states_cleaned = cleaned_df.select(\"State\").distinct()\n",
    "\n",
    "# Collect the distinct values as a list\n",
    "all_distinct_states_cleaned = distinct_states_cleaned.collect()\n",
    "\n",
    "# Count the number of distinct values\n",
    "distinct_states_count_cleaned = len(all_distinct_states_cleaned)\n",
    "\n",
    "# Print the count of distinct values\n",
    "print(f\"Count of distinct values in the State column after removing None: {distinct_states_count_cleaned}\")\n",
    "\n",
    "# Print all distinct values\n",
    "print(\"Distinct states:\")\n",
    "for state in all_distinct_states_cleaned:\n",
    "    print(state[\"State\"])\n",
    "\n"
   ]
  },
  {
   "cell_type": "code",
   "execution_count": 46,
   "id": "c889e26a",
   "metadata": {},
   "outputs": [
    {
     "name": "stdout",
     "output_type": "stream",
     "text": [
      "Count of distinct values in the State column after removing None: 58\n",
      "Arkansas\n",
      "Calfornia\n",
      "Alaska\n",
      "Albama\n",
      "Alabama\n",
      "Arizona\n",
      "California\n",
      "Colorado\n",
      "Connecticut\n",
      "District of Columbia\n",
      "Delaware\n",
      "Georgia\n",
      "Florida\n",
      "Hawaii\n",
      "Illinois\n",
      "Iowa\n",
      "Indiana\n",
      "Idaho\n",
      "Huwaii\n",
      "Kansas\n",
      "Maryland\n",
      "Kentucky\n",
      "Louisiana\n",
      "Maine\n",
      "Minnesota\n",
      "Michigan\n",
      "Massachusetts\n",
      "Nebraska\n",
      "Nevada\n",
      "Missouri\n",
      "Montana\n",
      "Mississippi\n",
      "New Hampshire\n",
      "New Mexico\n",
      "North Carolina\n",
      "New Jersey\n",
      "New York\n",
      "Ohio\n",
      "Oregon\n",
      "North Dakota\n",
      "Pennsylvania\n",
      "Oklahoma\n",
      "Rhode Island\n",
      "Utah\n",
      "Texas\n",
      "Tennessee\n",
      "South Carolina\n",
      "South Dakota\n",
      "Vermont\n",
      "Washington\n",
      "Vormont\n",
      "Virginia\n",
      "Puerto Rico\n",
      "West Virginia\n",
      "Guam\n",
      "Wyoming\n",
      "Wisconsin\n",
      "Virgin Islands\n"
     ]
    }
   ],
   "source": [
    "# Get distinct values in the State column from the cleaned DataFrame\n",
    "distinct_states_cleaned = cleaned_df.select(\"State\").distinct()\n",
    "\n",
    "# Count the number of distinct values\n",
    "distinct_states_count_cleaned = distinct_states_cleaned.count()\n",
    "\n",
    "# Print the count of distinct values\n",
    "print(f\"Count of distinct values in the State column after removing None: {distinct_states_count_cleaned}\")\n",
    "\n",
    "# Optionally, print all distinct values\n",
    "all_distinct_states_cleaned = distinct_states_cleaned.collect()\n",
    "for state in all_distinct_states_cleaned:\n",
    "    print(state[\"State\"])\n"
   ]
  },
  {
   "cell_type": "code",
   "execution_count": 48,
   "id": "b9972eb5",
   "metadata": {},
   "outputs": [
    {
     "name": "stdout",
     "output_type": "stream",
     "text": [
      "+--------------------+\n",
      "|state               |\n",
      "+--------------------+\n",
      "|Arkansas            |\n",
      "|Alaska              |\n",
      "|Alabama             |\n",
      "|Arizona             |\n",
      "|California          |\n",
      "|Colorado            |\n",
      "|Connecticut         |\n",
      "|District of Columbia|\n",
      "|Delaware            |\n",
      "|Georgia             |\n",
      "|Florida             |\n",
      "|Hawaii              |\n",
      "|Illinois            |\n",
      "|Iowa                |\n",
      "|Indiana             |\n",
      "|Idaho               |\n",
      "|Kansas              |\n",
      "|Maryland            |\n",
      "|Kentucky            |\n",
      "|Louisiana           |\n",
      "+--------------------+\n",
      "only showing top 20 rows\n",
      "\n"
     ]
    }
   ],
   "source": [
    "from pyspark.sql.functions import when\n",
    "\n",
    "# Correcting the typos in the State column\n",
    "df_cleaned = df.withColumn(\n",
    "    \"state\",\n",
    "    when(df[\"state\"] == \"Calfornia\", \"California\")\n",
    "    .when(df[\"state\"] == \"Albama\", \"Alabama\")\n",
    "    .when(df[\"state\"] == \"Huwaii\", \"Hawaii\")\n",
    "    .when(df[\"state\"] == \"Vormont\", \"Vermont\")\n",
    "    .otherwise(df[\"state\"])\n",
    ")\n",
    "\n",
    "# Check the distinct values again\n",
    "df_cleaned.select(\"state\").distinct().show(truncate=False)\n"
   ]
  },
  {
   "cell_type": "code",
   "execution_count": 49,
   "id": "2649166a",
   "metadata": {},
   "outputs": [
    {
     "name": "stdout",
     "output_type": "stream",
     "text": [
      "+------------------+----------------+\n",
      "|PhysicalHealthDays|MentalHealthDays|\n",
      "+------------------+----------------+\n",
      "|                 4|               0|\n",
      "|                 0|               0|\n",
      "|                 0|            NULL|\n",
      "|                 6|               0|\n",
      "|                 3|              12|\n",
      "|                 0|               0|\n",
      "|                 3|               0|\n",
      "|                 5|               0|\n",
      "|                 2|               0|\n",
      "|                 0|               0|\n",
      "|                 0|               0|\n",
      "|                 3|               5|\n",
      "|                 6|               0|\n",
      "|                 0|               0|\n",
      "|                29|              23|\n",
      "|                 0|              14|\n",
      "|                 0|               0|\n",
      "|                 0|               0|\n",
      "|                 0|               0|\n",
      "|                29|               0|\n",
      "+------------------+----------------+\n",
      "only showing top 20 rows\n",
      "\n"
     ]
    }
   ],
   "source": [
    "from pyspark.sql.functions import col, when, round\n",
    "\n",
    "# Clean, cap, round, and standardize PhysicalHealthDays and MentalHealthDays columns\n",
    "df_cleaned = df.withColumn(\n",
    "    \"PhysicalHealthDays\",\n",
    "    round(\n",
    "        when(col(\"PhysicalHealthDays\") < 0, 0)\n",
    "        .when(col(\"PhysicalHealthDays\") > 30, 30)\n",
    "        .otherwise(col(\"PhysicalHealthDays\"))\n",
    "    ).cast(\"int\")\n",
    ")\n",
    "\n",
    "df_cleaned = df_cleaned.withColumn(\n",
    "    \"MentalHealthDays\",\n",
    "    round(\n",
    "        when(col(\"MentalHealthDays\") < 0, 0)\n",
    "        .when(col(\"MentalHealthDays\") > 30, 30)\n",
    "        .otherwise(col(\"MentalHealthDays\"))\n",
    "    ).cast(\"int\")\n",
    ")\n",
    "\n",
    "# Show the cleaned and standardized columns\n",
    "df_cleaned.select(\"PhysicalHealthDays\", \"MentalHealthDays\").show()\n"
   ]
  },
  {
   "cell_type": "code",
   "execution_count": 50,
   "id": "3fcc76d5",
   "metadata": {},
   "outputs": [
    {
     "name": "stdout",
     "output_type": "stream",
     "text": [
      "+----------+\n",
      "|SleepHours|\n",
      "+----------+\n",
      "|         9|\n",
      "|         5|\n",
      "|         6|\n",
      "|         7|\n",
      "|         5|\n",
      "|         7|\n",
      "|         9|\n",
      "|         7|\n",
      "|         6|\n",
      "|         6|\n",
      "|         9|\n",
      "|         4|\n",
      "|         5|\n",
      "|         6|\n",
      "|         6|\n",
      "|         7|\n",
      "|         7|\n",
      "|        11|\n",
      "|         5|\n",
      "|         9|\n",
      "+----------+\n",
      "only showing top 20 rows\n",
      "\n"
     ]
    }
   ],
   "source": [
    "#Sleep_Hours\n",
    "df_cleaned = df_cleaned.withColumn(\n",
    "    \"SleepHours\",\n",
    "    round(\n",
    "        when(col(\"SleepHours\") < 0, 0)\n",
    "        .when(col(\"SleepHours\") > 24,24)\n",
    "        .otherwise(col(\"SleepHours\"))\n",
    "    ).cast(\"int\")\n",
    ")\n",
    "\n",
    "# Show the cleaned and standardized columns\n",
    "df_cleaned.select(\"SleepHours\").show()"
   ]
  },
  {
   "cell_type": "code",
   "execution_count": 51,
   "id": "06e4aecb",
   "metadata": {},
   "outputs": [
    {
     "name": "stdout",
     "output_type": "stream",
     "text": [
      "+--------------------+\n",
      "|         HadDiabetes|\n",
      "+--------------------+\n",
      "|No, pre-diabetes ...|\n",
      "|                  No|\n",
      "|                 Yes|\n",
      "|Yes, but only dur...|\n",
      "+--------------------+\n",
      "\n"
     ]
    }
   ],
   "source": [
    "distinct_values = df_cleaned.select(\"HadDiabetes\").distinct()\n",
    "distinct_values.show()\n"
   ]
  },
  {
   "cell_type": "code",
   "execution_count": 52,
   "id": "5ff19edb",
   "metadata": {},
   "outputs": [
    {
     "name": "stdout",
     "output_type": "stream",
     "text": [
      "+--------------------+------+\n",
      "|         HadDiabetes| count|\n",
      "+--------------------+------+\n",
      "|No, pre-diabetes ...|  5551|\n",
      "|                  No|210337|\n",
      "|                 Yes| 34718|\n",
      "|Yes, but only dur...|  2023|\n",
      "+--------------------+------+\n",
      "\n"
     ]
    }
   ],
   "source": [
    "# Group by 'HadDiabetics' column and count occurrences\n",
    "value_counts = df_cleaned.groupBy(\"HadDiabetes\").count()\n",
    "\n",
    "# Show the results\n",
    "value_counts.show()\n"
   ]
  },
  {
   "cell_type": "code",
   "execution_count": 53,
   "id": "484967c0",
   "metadata": {},
   "outputs": [
    {
     "name": "stdout",
     "output_type": "stream",
     "text": [
      "+-----------+------+\n",
      "|HadDiabetes| count|\n",
      "+-----------+------+\n",
      "|         No|210337|\n",
      "|        Yes| 34718|\n",
      "+-----------+------+\n",
      "\n"
     ]
    }
   ],
   "source": [
    "# Filter to keep only \"Yes\" and \"No\"\n",
    "filtered_df = df_cleaned.filter(df_cleaned[\"HadDiabetes\"].isin([\"Yes\", \"No\"]))\n",
    "\n",
    "# Count occurrences of each unique value in the filtered DataFrame\n",
    "value_counts = filtered_df.groupBy(\"HadDiabetes\").count()\n",
    "\n",
    "# Show the results\n",
    "value_counts.show()\n"
   ]
  },
  {
   "cell_type": "code",
   "execution_count": 54,
   "id": "25c34ccb",
   "metadata": {},
   "outputs": [
    {
     "name": "stdout",
     "output_type": "stream",
     "text": [
      "Number of duplicate rows: 1085\n"
     ]
    }
   ],
   "source": [
    "from pyspark.sql.functions import col, count\n",
    "\n",
    "# Group by all columns and count occurrences\n",
    "duplicates_df = df_cleaned.groupBy(df_cleaned.columns).count().filter(col(\"count\") > 1)\n",
    "\n",
    "# Calculate the total number of duplicate rows\n",
    "duplicate_count = duplicates_df.select(count(\"count\")).collect()[0][0]\n",
    "\n",
    "print(f\"Number of duplicate rows: {duplicate_count}\")\n"
   ]
  },
  {
   "cell_type": "code",
   "execution_count": 55,
   "id": "413f8662",
   "metadata": {},
   "outputs": [
    {
     "name": "stdout",
     "output_type": "stream",
     "text": [
      "+-------+------+-------------+------------------+----------------+--------------------+------------------+----------+--------------------+--------------+---------+---------+---------+-------------+-------+---------------------+----------------+------------+--------------------+-------------------+-----------------------+-----------------------+-----------------+-------------------------+-----------------+--------------------+--------------------+---------+---------------------+---------------+--------------+-----------------+-----+---------------+----------+------------+-------------+--------------------+----------------+--------------------+\n",
      "|  State|   Sex|GeneralHealth|PhysicalHealthDays|MentalHealthDays|     LastCheckupTime|PhysicalActivities|SleepHours|        RemovedTeeth|HadHeartAttack|HadAngina|HadStroke|HadAsthma|HadSkinCancer|HadCOPD|HadDepressiveDisorder|HadKidneyDisease|HadArthritis|         HadDiabetes|DeafOrHardOfHearing|BlindOrVisionDifficulty|DifficultyConcentrating|DifficultyWalking|DifficultyDressingBathing|DifficultyErrands|        SmokerStatus|     ECigaretteUsage|ChestScan|RaceEthnicityCategory|    AgeCategory|HeightInMeters|WeightInKilograms|  BMI|AlcoholDrinkers|HIVTesting|FluVaxLast12|PneumoVaxEver|   TetanusLast10Tdap|HighRiskLastYear|            CovidPos|\n",
      "+-------+------+-------------+------------------+----------------+--------------------+------------------+----------+--------------------+--------------+---------+---------+---------+-------------+-------+---------------------+----------------+------------+--------------------+-------------------+-----------------------+-----------------------+-----------------+-------------------------+-----------------+--------------------+--------------------+---------+---------------------+---------------+--------------+-----------------+-----+---------------+----------+------------+-------------+--------------------+----------------+--------------------+\n",
      "|Alabama|Female|         Good|                11|               3|Within past year ...|                No|        11|6 or more, but no...|            No|       No|       No|       No|           No|     No|                   No|              No|         Yes|                  No|                 No|                     No|                     No|              Yes|                       No|               No|        Never smoked|Never used e-ciga...|       No| Black only, Non-H...|   Age 55 to 59|          1.57|            113.4|45.73|            Yes|        No|         Yes|           No|No, did not recei...|              No|                 Yes|\n",
      "|Alabama|Female|    Very good|                 0|               0|Within past year ...|                No|         7|        None of them|            No|       No|       No|       No|           No|     No|                   No|              No|          No|                  No|                Yes|                     No|                     No|               No|                       No|               No|        Never smoked|Never used e-ciga...|       No| White only, Non-H...|   Age 55 to 59|          1.68|            81.65|29.05|            Yes|        No|         Yes|           No|Yes, received tet...|              No|Tested positive u...|\n",
      "|Alabama|  Male|         Good|                 0|               0|Within past year ...|               Yes|         7|              1 to 5|            No|      Yes|       No|       No|           No|     No|                   No|              No|          No|                  No|                 No|                     No|                     No|               No|                       No|               No|        Never smoked|Never used e-ciga...|      Yes| White only, Non-H...|Age 80 or older|          1.75|            92.99|30.27|            Yes|        No|         Yes|           No|No, did not recei...|              No|                  No|\n",
      "|Alabama|Female|    Very good|                 0|               2|Within past year ...|               Yes|         8|              1 to 5|            No|       No|       No|       No|          Yes|     No|                   No|              No|          No|                  No|                 No|                     No|                     No|               No|                       No|               No|        Never smoked|Never used e-ciga...|       No| White only, Non-H...|   Age 70 to 74|          1.63|            68.04|25.75|            Yes|        No|         Yes|          Yes|Yes, received tet...|              No|                 Yes|\n",
      "|Alabama|  Male|         Good|                 5|               9|Within past year ...|               Yes|         6|        None of them|            No|       No|       No|       No|           No|     No|                   No|              No|          No|                  No|                 No|                     No|                     No|               No|                       No|               No|        Never smoked|Never used e-ciga...|      Yes| White only, Non-H...|   Age 35 to 39|          1.85|           158.76|46.18|             No|        No|          No|           No|  Yes, received Tdap|              No|                 Yes|\n",
      "|Alabama|Female|         Fair|                30|              30|Within past year ...|                No|         7|        None of them|            No|       No|      Yes|       No|           No|     No|                  Yes|             Yes|         Yes|                 Yes|                 No|                     No|                    Yes|              Yes|                      Yes|               No|        Never smoked|Never used e-ciga...|      Yes| White only, Non-H...|   Age 70 to 74|          1.65|            87.54|32.12|             No|        No|          No|          Yes|  Yes, received Tdap|              No|                 Yes|\n",
      "|Alabama|  Male|    Very good|                 3|               0|Within past year ...|               Yes|         8|6 or more, but no...|           Yes|       No|       No|       No|           No|    Yes|                   No|              No|         Yes|                 Yes|                Yes|                     No|                     No|               No|                       No|               No|       Former smoker|Never used e-ciga...|      Yes| White only, Non-H...|Age 80 or older|          1.75|            86.18|28.06|            Yes|        No|          No|          Yes|Yes, received tet...|              No|                 Yes|\n",
      "|Alabama|Female|    Very good|                 0|               0|Within past year ...|               Yes|         7|        None of them|            No|       No|       No|       No|          Yes|     No|                   No|              No|          No|                  No|                 No|                     No|                     No|               No|                       No|               No|        Never smoked|Never used e-ciga...|       No| White only, Non-H...|   Age 70 to 74|          1.68|            79.38|28.25|             No|        No|         Yes|          Yes|  Yes, received Tdap|              No|                  No|\n",
      "|Alabama|  Male|         Poor|                30|               4|Within past year ...|               Yes|         8|6 or more, but no...|            No|       No|       No|       No|           No|     No|                   No|              No|         Yes|                  No|                 No|                     No|                     No|              Yes|                      Yes|               No|Current smoker - ...|Never used e-ciga...|       No| White only, Non-H...|   Age 55 to 59|          1.88|            97.52| 27.6|             No|       Yes|          No|           No|No, did not recei...|              No|                 Yes|\n",
      "|Alabama|Female|    Excellent|                 0|               0|Within past year ...|               Yes|         7|        None of them|            No|       No|       No|       No|           No|     No|                   No|              No|         Yes|                  No|                 No|                     No|                     No|               No|                       No|               No|Current smoker - ...|  Use them every day|      Yes| White only, Non-H...|   Age 35 to 39|          1.73|            85.73|28.74|            Yes|       Yes|          No|           No|No, did not recei...|              No|                 Yes|\n",
      "| Alaska|  Male|    Very good|                 0|               0|Within past year ...|               Yes|         9|              1 to 5|            No|       No|       No|       No|           No|     No|                   No|              No|         Yes|                  No|                 No|                     No|                     No|               No|                       No|               No|       Former smoker|Never used e-ciga...|      Yes| White only, Non-H...|   Age 65 to 69|          1.78|            70.31|22.24|            Yes|        No|         Yes|           No|Yes, received tet...|              No|                  No|\n",
      "| Alaska|  Male|    Excellent|                 0|               0|Within past 5 yea...|               Yes|         8|              1 to 5|            No|       No|       No|       No|           No|     No|                   No|              No|          No|                  No|                 No|                     No|                     No|               No|                       No|               No|        Never smoked|Never used e-ciga...|       No| Other race only, ...|   Age 18 to 24|          1.78|            97.52|30.85|             No|        No|         Yes|           No|Yes, received tet...|              No|                  No|\n",
      "| Alaska|Female|    Very good|                 5|              19|Within past 5 yea...|               Yes|         8|        None of them|            No|       No|       No|       No|           No|     No|                  Yes|              No|          No|                  No|                 No|                     No|                     No|               No|                       No|               No|        Never smoked|Never used e-ciga...|       No| White only, Non-H...|   Age 35 to 39|          1.63|            79.38|30.04|            Yes|       Yes|          No|           No|  Yes, received Tdap|              No|                 Yes|\n",
      "| Alaska|Female|         Good|                 0|               0|Within past year ...|               Yes|         6|              1 to 5|            No|       No|       No|       No|           No|     No|                   No|              No|         Yes|                  No|                 No|                     No|                     No|               No|                       No|               No|       Former smoker|Never used e-ciga...|       No| White only, Non-H...|   Age 70 to 74|           1.6|            99.79|38.97|            Yes|        No|         Yes|          Yes|No, did not recei...|              No|                  No|\n",
      "| Alaska|Female|    Excellent|                 8|               0|Within past year ...|               Yes|         6|        None of them|            No|       No|       No|       No|          Yes|     No|                   No|              No|          No|                  No|                 No|                     No|                     No|               No|                       No|               No|        Never smoked|Never used e-ciga...|      Yes| White only, Non-H...|   Age 40 to 44|          1.63|             56.7|21.46|            Yes|       Yes|         Yes|          Yes|  Yes, received Tdap|              No|                 Yes|\n",
      "| Alaska|Female|         Fair|                28|               0|Within past year ...|               Yes|         8|6 or more, but no...|            No|       No|       No|       No|           No|     No|                   No|              No|          No|Yes, but only dur...|                 No|                     No|                     No|               No|                       No|               No|       Former smoker|Never used e-ciga...|      Yes| White only, Non-H...|   Age 65 to 69|           1.7|            70.31|24.28|             No|        No|         Yes|           No|No, did not recei...|              No|                  No|\n",
      "| Alaska|  Male|         Good|                 0|               5|Within past year ...|               Yes|         7|              1 to 5|            No|       No|       No|       No|           No|     No|                   No|              No|         Yes|                  No|                 No|                     No|                     No|               No|                       No|               No|Current smoker - ...|Not at all (right...|       No| White only, Non-H...|   Age 40 to 44|           1.8|           106.59|32.78|            Yes|       Yes|          No|           No|  Yes, received Tdap|             Yes|                 Yes|\n",
      "| Alaska|  Male|         Good|                29|               0|Within past year ...|               Yes|         8|        None of them|            No|       No|       No|       No|           No|     No|                   No|              No|          No|                  No|                Yes|                    Yes|                     No|               No|                       No|               No|        Never smoked|Never used e-ciga...|      Yes| White only, Non-H...|   Age 70 to 74|          1.73|            77.11|25.85|             No|        No|         Yes|          Yes|  Yes, received Tdap|              No|                  No|\n",
      "| Alaska|Female|         Good|                 0|              15|Within past year ...|               Yes|         5|              1 to 5|            No|       No|       No|      Yes|           No|    Yes|                  Yes|              No|          No|                  No|                 No|                     No|                     No|               No|                       No|               No|       Former smoker|Never used e-ciga...|       No| White only, Non-H...|   Age 25 to 29|           1.7|             76.2|26.31|            Yes|       Yes|          No|           No|No, did not recei...|              No|                  No|\n",
      "| Alaska|  Male|    Very good|                 0|               3|Within past year ...|               Yes|         7|        None of them|            No|       No|       No|       No|           No|     No|                   No|              No|          No|                  No|                 No|                     No|                     No|               No|                       No|               No|        Never smoked|Never used e-ciga...|      Yes| White only, Non-H...|   Age 70 to 74|          1.83|            81.65|24.41|            Yes|       Yes|          No|           No|No, did not recei...|              No|                 Yes|\n",
      "+-------+------+-------------+------------------+----------------+--------------------+------------------+----------+--------------------+--------------+---------+---------+---------+-------------+-------+---------------------+----------------+------------+--------------------+-------------------+-----------------------+-----------------------+-----------------+-------------------------+-----------------+--------------------+--------------------+---------+---------------------+---------------+--------------+-----------------+-----+---------------+----------+------------+-------------+--------------------+----------------+--------------------+\n",
      "only showing top 20 rows\n",
      "\n",
      "Number of rows after dropping duplicates: 251540\n"
     ]
    }
   ],
   "source": [
    "# Drop duplicate rows\n",
    "deduplicated_df = df_cleaned.dropDuplicates()\n",
    "\n",
    "# Optionally, you can check the number of rows in the deduplicated DataFrame\n",
    "deduplicated_count = deduplicated_df.count()\n",
    "\n",
    "# Show the result or save it as needed\n",
    "deduplicated_df.show()\n",
    "print(f\"Number of rows after dropping duplicates: {deduplicated_count}\")"
   ]
  },
  {
   "cell_type": "code",
   "execution_count": 56,
   "id": "6226a61a",
   "metadata": {},
   "outputs": [
    {
     "name": "stdout",
     "output_type": "stream",
     "text": [
      "+-----+---+-------------+------------------+----------------+---------------+------------------+----------+------------+--------------+---------+---------+---------+-------------+-------+---------------------+----------------+------------+-----------+-------------------+-----------------------+-----------------------+-----------------+-------------------------+-----------------+------------+---------------+---------+---------------------+-----------+--------------+-----------------+---+---------------+----------+------------+-------------+-----------------+----------------+--------+\n",
      "|State|Sex|GeneralHealth|PhysicalHealthDays|MentalHealthDays|LastCheckupTime|PhysicalActivities|SleepHours|RemovedTeeth|HadHeartAttack|HadAngina|HadStroke|HadAsthma|HadSkinCancer|HadCOPD|HadDepressiveDisorder|HadKidneyDisease|HadArthritis|HadDiabetes|DeafOrHardOfHearing|BlindOrVisionDifficulty|DifficultyConcentrating|DifficultyWalking|DifficultyDressingBathing|DifficultyErrands|SmokerStatus|ECigaretteUsage|ChestScan|RaceEthnicityCategory|AgeCategory|HeightInMeters|WeightInKilograms|BMI|AlcoholDrinkers|HIVTesting|FluVaxLast12|PneumoVaxEver|TetanusLast10Tdap|HighRiskLastYear|CovidPos|\n",
      "+-----+---+-------------+------------------+----------------+---------------+------------------+----------+------------+--------------+---------+---------+---------+-------------+-------+---------------------+----------------+------------+-----------+-------------------+-----------------------+-----------------------+-----------------+-------------------------+-----------------+------------+---------------+---------+---------------------+-----------+--------------+-----------------+---+---------------+----------+------------+-------------+-----------------+----------------+--------+\n",
      "| 9578|  0|         9581|                 0|            9578|           9581|              9583|         0|        9582|             0|        0|        0|        0|            0|      0|                    0|               0|           0|          0|                  0|                      0|                      0|                0|                        0|                0|           0|              0|        0|                    0|          0|             0|                0|  0|              0|         0|           0|            0|                0|               0|       0|\n",
      "+-----+---+-------------+------------------+----------------+---------------+------------------+----------+------------+--------------+---------+---------+---------+-------------+-------+---------------------+----------------+------------+-----------+-------------------+-----------------------+-----------------------+-----------------+-------------------------+-----------------+------------+---------------+---------+---------------------+-----------+--------------+-----------------+---+---------------+----------+------------+-------------+-----------------+----------------+--------+\n",
      "\n"
     ]
    }
   ],
   "source": [
    "from pyspark.sql.functions import col, sum\n",
    "\n",
    "# Count null values in each column\n",
    "null_counts = deduplicated_df.select([sum(col(c).isNull().cast(\"int\")).alias(c) for c in deduplicated_df.columns])\n",
    "\n",
    "# Show the null counts for each column\n",
    "null_counts.show()\n"
   ]
  },
  {
   "cell_type": "code",
   "execution_count": 57,
   "id": "a6451065",
   "metadata": {},
   "outputs": [
    {
     "name": "stdout",
     "output_type": "stream",
     "text": [
      "Columns with null values: ['State', 'GeneralHealth', 'MentalHealthDays', 'LastCheckupTime', 'PhysicalActivities', 'RemovedTeeth']\n"
     ]
    }
   ],
   "source": [
    "#Col with null values\n",
    "from pyspark.sql.functions import col, count, when\n",
    "\n",
    "# Count the number of null values for each column\n",
    "null_counts = deduplicated_df.select([\n",
    "    count(when(col(c).isNull(), c)).alias(c) for c in deduplicated_df.columns\n",
    "])\n",
    "\n",
    "# Collect the results into a dictionary\n",
    "null_counts_dict = null_counts.collect()[0].asDict()\n",
    "\n",
    "# Filter columns with null values\n",
    "columns_with_nulls = [col for col, count in null_counts_dict.items() if count > 0]\n",
    "\n",
    "print(\"Columns with null values:\", columns_with_nulls)\n"
   ]
  },
  {
   "cell_type": "code",
   "execution_count": 63,
   "id": "d3455816",
   "metadata": {},
   "outputs": [
    {
     "name": "stdout",
     "output_type": "stream",
     "text": [
      "+--------------+------+-------------+------------------+----------------+--------------------+------------------+----------+--------------------+--------------+---------+---------+---------+-------------+-------+---------------------+----------------+------------+-----------+-------------------+-----------------------+-----------------------+-----------------+-------------------------+-----------------+--------------------+--------------------+---------+---------------------+---------------+--------------+-----------------+-----+---------------+----------+------------+-------------+--------------------+----------------+--------+\n",
      "|         State|   Sex|GeneralHealth|PhysicalHealthDays|MentalHealthDays|     LastCheckupTime|PhysicalActivities|SleepHours|        RemovedTeeth|HadHeartAttack|HadAngina|HadStroke|HadAsthma|HadSkinCancer|HadCOPD|HadDepressiveDisorder|HadKidneyDisease|HadArthritis|HadDiabetes|DeafOrHardOfHearing|BlindOrVisionDifficulty|DifficultyConcentrating|DifficultyWalking|DifficultyDressingBathing|DifficultyErrands|        SmokerStatus|     ECigaretteUsage|ChestScan|RaceEthnicityCategory|    AgeCategory|HeightInMeters|WeightInKilograms|  BMI|AlcoholDrinkers|HIVTesting|FluVaxLast12|PneumoVaxEver|   TetanusLast10Tdap|HighRiskLastYear|CovidPos|\n",
      "+--------------+------+-------------+------------------+----------------+--------------------+------------------+----------+--------------------+--------------+---------+---------+---------+-------------+-------+---------------------+----------------+------------+-----------+-------------------+-----------------------+-----------------------+-----------------+-------------------------+-----------------+--------------------+--------------------+---------+---------------------+---------------+--------------+-----------------+-----+---------------+----------+------------+-------------+--------------------+----------------+--------+\n",
      "|South Carolina|Female|    Very good|                 0|               0| 5 or more years ago|                No|         9|        None of them|            No|       No|       No|       No|           No|     No|                   No|              No|          No|         No|                 No|                     No|                     No|               No|                       No|               No|        Never smoked|Never used e-ciga...|       No| White only, Non-H...|   Age 70 to 74|          1.52|            28.12|12.11|             No|        No|          No|           No|No, did not recei...|              No|      No|\n",
      "|      Arkansas|Female|         Poor|                30|              29|Within past year ...|                No|         7|                 All|            No|       No|       No|       No|           No|    Yes|                   No|              No|          No|        Yes|                Yes|                     No|                     No|              Yes|                       No|               No|        Never smoked|Never used e-ciga...|      Yes| White only, Non-H...|   Age 60 to 64|          1.52|            29.48|12.69|             No|        No|         Yes|          Yes|No, did not recei...|              No|     Yes|\n",
      "|      Nebraska|Female|         Poor|                25|               0|Within past year ...|               Yes|         5|        None of them|            No|       No|       No|       No|           No|     No|                   No|             Yes|         Yes|         No|                Yes|                     No|                     No|              Yes|                       No|              Yes|Current smoker - ...|Never used e-ciga...|      Yes| White only, Non-H...|   Age 75 to 79|          1.52|            29.48|12.69|             No|        No|          No|          Yes|Yes, received tet...|              No|      No|\n",
      "|   Puerto Rico|Female|         Fair|                30|               0|Within past year ...|                No|         6|6 or more, but no...|            No|       No|       No|       No|           No|     No|                  Yes|              No|         Yes|         No|                 No|                     No|                     No|               No|                       No|               No|       Former smoker|Not at all (right...|      Yes|             Hispanic|   Age 75 to 79|          1.35|            30.39|16.77|             No|        No|         Yes|          Yes|No, did not recei...|              No|      No|\n",
      "|       Vermont|Female|         Poor|                30|               0|Within past 5 yea...|                No|         9|                 All|            No|       No|       No|       No|           No|    Yes|                   No|              No|          No|         No|                 No|                     No|                     No|              Yes|                       No|              Yes|Current smoker - ...|Never used e-ciga...|      Yes| White only, Non-H...|   Age 65 to 69|          1.57|            30.84|12.44|             No|        No|          No|           No|No, did not recei...|              No|      No|\n",
      "|       Vermont|Female|         Poor|                30|               3|Within past 2 yea...|                No|        17|                 All|            No|       No|       No|       No|           No|    Yes|                   No|              No|          No|         No|                 No|                     No|                     No|              Yes|                       No|               No|Current smoker - ...|Never used e-ciga...|      Yes| White only, Non-H...|   Age 60 to 64|           1.6|            30.84|12.05|             No|        No|          No|           No|No, did not recei...|              No|      No|\n",
      "| West Virginia|Female|         Good|                24|               0|Within past year ...|               Yes|         8|6 or more, but no...|            No|       No|       No|      Yes|           No|     No|                   No|              No|         Yes|         No|                 No|                     No|                     No|               No|                       No|               No|        Never smoked|Never used e-ciga...|       No| White only, Non-H...|   Age 75 to 79|           1.5|            30.84|13.73|             No|        No|          No|           No|Yes, received tet...|              No|      No|\n",
      "|       Georgia|Female|         Good|                23|               0|Within past year ...|                No|         7|              1 to 5|           Yes|       No|      Yes|       No|           No|    Yes|                   No|             Yes|         Yes|         No|                 No|                     No|                     No|              Yes|                       No|               No|        Never smoked|  Use them every day|       No| White only, Non-H...|   Age 55 to 59|           1.5|            31.75|14.14|             No|        No|         Yes|           No|No, did not recei...|              No|      No|\n",
      "|          Ohio|Female|         Fair|                 0|               0|Within past year ...|                No|         3|                 All|            No|       No|       No|       No|           No|    Yes|                   No|              No|         Yes|         No|                 No|                     No|                     No|              Yes|                       No|               No|Current smoker - ...|Never used e-ciga...|      Yes| White only, Non-H...|   Age 70 to 74|          1.42|            31.75|15.69|             No|       Yes|          No|          Yes|No, did not recei...|              No|      No|\n",
      "|        Kansas|Female|         Good|                 3|               0|Within past year ...|               Yes|         6|                 All|            No|       No|       No|       No|           No|     No|                   No|              No|         Yes|        Yes|                 No|                     No|                     No|               No|                       No|               No|Current smoker - ...|Never used e-ciga...|      Yes| Black only, Non-H...|Age 80 or older|          1.37|            31.75|16.88|            Yes|        No|         Yes|          Yes|No, did not recei...|              No|      No|\n",
      "|      New York|Female|         Fair|                 7|               0|Within past year ...|               Yes|         6|6 or more, but no...|            No|       No|       No|       No|           No|     No|                   No|              No|         Yes|        Yes|                 No|                     No|                     No|               No|                       No|               No|        Never smoked|Never used e-ciga...|       No| Black only, Non-H...|   Age 75 to 79|          1.27|            31.75|19.69|             No|        No|          No|           No|No, did not recei...|              No|      No|\n",
      "|          Ohio|Female|    Very good|                 0|               0|Within past year ...|               Yes|         7|        None of them|            No|       No|       No|       No|           No|     No|                   No|              No|          No|         No|                 No|                     No|                     No|               No|                       No|               No|        Never smoked|Never used e-ciga...|      Yes| White only, Non-H...|Age 80 or older|          1.63|            31.75|12.02|             No|        No|         Yes|          Yes|No, did not recei...|              No|      No|\n",
      "|    California|Female|         Fair|                30|               0|Within past year ...|               Yes|         9|6 or more, but no...|            No|       No|       No|       No|           No|     No|                   No|             Yes|         Yes|        Yes|                Yes|                    Yes|                     No|              Yes|                      Yes|               No|        Never smoked|Not at all (right...|       No|             Hispanic|   Age 75 to 79|          1.42|            31.75|15.69|             No|       Yes|         Yes|          Yes|Yes, received tet...|              No|      No|\n",
      "| Massachusetts|Female|         Poor|                 3|              30| 5 or more years ago|                No|         8|                 All|            No|       No|       No|       No|           No|    Yes|                   No|              No|         Yes|         No|                 No|                     No|                     No|               No|                       No|               No|       Former smoker|Never used e-ciga...|       No| White only, Non-H...|Age 80 or older|           1.6|            31.75| 12.4|             No|        No|         Yes|          Yes|No, did not recei...|              No|      No|\n",
      "|       Arizona|  Male|    Very good|                 5|               0|Within past 5 yea...|               Yes|         7|        None of them|            No|       No|       No|       No|           No|     No|                   No|              No|          No|         No|                 No|                     No|                     No|               No|                       No|               No|Current smoker - ...|Not at all (right...|       No|             Hispanic|   Age 25 to 29|           1.6|             32.0| 12.5|            Yes|        No|          No|           No|Yes, received tet...|              No|      No|\n",
      "|       Arizona|Female|    Excellent|                 0|               0| 5 or more years ago|               Yes|         8|        None of them|            No|       No|       No|      Yes|           No|     No|                  Yes|              No|         Yes|         No|                Yes|                    Yes|                     No|               No|                       No|               No|        Never smoked|Never used e-ciga...|       No| Other race only, ...|Age 80 or older|          1.45|            32.21|15.36|             No|        No|          No|           No|Yes, received tet...|              No|      No|\n",
      "|     Minnesota|Female|         Poor|                30|               5|Within past year ...|                No|         7|                 All|            No|       No|      Yes|       No|           No|     No|                   No|             Yes|          No|         No|                 No|                     No|                     No|              Yes|                      Yes|              Yes|Current smoker - ...|Never used e-ciga...|      Yes| White only, Non-H...|   Age 60 to 64|          1.47|            32.21|14.84|             No|        No|          No|           No|No, did not recei...|              No|      No|\n",
      "|          Ohio|Female|         Poor|                26|               0|Within past 2 yea...|               Yes|        10|                 All|            No|       No|       No|      Yes|           No|    Yes|                   No|              No|         Yes|         No|                 No|                     No|                     No|              Yes|                      Yes|              Yes|       Former smoker|Never used e-ciga...|      Yes| White only, Non-H...|   Age 60 to 64|          1.52|            33.57|14.45|             No|        No|          No|           No|Yes, received tet...|              No|      No|\n",
      "|    New Jersey|Female|         Poor|                30|              27|Within past 2 yea...|                No|         8|                 All|            No|       No|       No|       No|           No|     No|                  Yes|              No|          No|         No|                 No|                     No|                     No|              Yes|                       No|              Yes|Current smoker - ...|Never used e-ciga...|      Yes| White only, Non-H...|   Age 60 to 64|           1.5|            33.57|14.95|            Yes|       Yes|          No|           No|No, did not recei...|              No|      No|\n",
      "|      Illinois|Female|         Fair|                 4|               2|Within past year ...|               Yes|         6|6 or more, but no...|            No|       No|       No|      Yes|           No|     No|                   No|              No|          No|         No|                 No|                     No|                    Yes|              Yes|                      Yes|              Yes|Current smoker - ...|Never used e-ciga...|      Yes|             Hispanic|   Age 65 to 69|           1.5|            33.57|14.95|            Yes|       Yes|          No|           No|No, did not recei...|              No|      No|\n",
      "+--------------+------+-------------+------------------+----------------+--------------------+------------------+----------+--------------------+--------------+---------+---------+---------+-------------+-------+---------------------+----------------+------------+-----------+-------------------+-----------------------+-----------------------+-----------------+-------------------------+-----------------+--------------------+--------------------+---------+---------------------+---------------+--------------+-----------------+-----+---------------+----------+------------+-------------+--------------------+----------------+--------+\n",
      "only showing top 20 rows\n",
      "\n"
     ]
    }
   ],
   "source": [
    "#Forward-Fill\n",
    "\n",
    "from pyspark.sql import SparkSession\n",
    "from pyspark.sql.functions import col, last, row_number\n",
    "from pyspark.sql.window import Window\n",
    "\n",
    "# Initialize Spark session\n",
    "spark = SparkSession.builder.appName(\"ForwardFillExample\").getOrCreate()\n",
    "\n",
    "# Assuming `deduplicated_df` is your existing DataFrame with the 'Weight' column\n",
    "# Sample DataFrame creation for demonstration\n",
    "# data = [ ... ]  # Replace with your actual data\n",
    "# columns = ['State', 'GeneralHealth', 'MentalHealthDays', 'LastCheckupTime', 'PhysicalActivities', 'RemovedTeeth', 'Weight']\n",
    "# deduplicated_df = spark.createDataFrame(data, columns)\n",
    "\n",
    "# Add an Ordering Column based on Weight\n",
    "ordered_df = deduplicated_df.withColumn(\n",
    "    \"order\", \n",
    "    row_number().over(Window.orderBy(\"WeightInKilograms\"))\n",
    ")\n",
    "\n",
    "# Define the Window Specification for forward-filling\n",
    "window_spec = Window.orderBy(\"order\").rowsBetween(Window.unboundedPreceding, Window.currentRow)\n",
    "\n",
    "# List of columns to forward-fill\n",
    "columns_to_fill = ['State', 'GeneralHealth', 'MentalHealthDays', 'LastCheckupTime', 'PhysicalActivities', 'RemovedTeeth']\n",
    "\n",
    "# Apply Forward-Fill\n",
    "forward_filled_df = ordered_df\n",
    "for column in columns_to_fill:\n",
    "    forward_filled_df = forward_filled_df.withColumn(\n",
    "        column,\n",
    "        last(column, ignorenulls=True).over(window_spec)\n",
    "    )\n",
    "\n",
    "# Drop the ordering column if not needed\n",
    "forward_filled_df = forward_filled_df.drop(\"order\")\n",
    "\n",
    "# Show the resulting DataFrame\n",
    "forward_filled_df.show()\n"
   ]
  },
  {
   "cell_type": "code",
   "execution_count": 64,
   "id": "a76054d6",
   "metadata": {},
   "outputs": [
    {
     "name": "stdout",
     "output_type": "stream",
     "text": [
      "+-----+---+-------------+------------------+----------------+---------------+------------------+----------+------------+--------------+---------+---------+---------+-------------+-------+---------------------+----------------+------------+-----------+-------------------+-----------------------+-----------------------+-----------------+-------------------------+-----------------+------------+---------------+---------+---------------------+-----------+--------------+-----------------+---+---------------+----------+------------+-------------+-----------------+----------------+--------+\n",
      "|State|Sex|GeneralHealth|PhysicalHealthDays|MentalHealthDays|LastCheckupTime|PhysicalActivities|SleepHours|RemovedTeeth|HadHeartAttack|HadAngina|HadStroke|HadAsthma|HadSkinCancer|HadCOPD|HadDepressiveDisorder|HadKidneyDisease|HadArthritis|HadDiabetes|DeafOrHardOfHearing|BlindOrVisionDifficulty|DifficultyConcentrating|DifficultyWalking|DifficultyDressingBathing|DifficultyErrands|SmokerStatus|ECigaretteUsage|ChestScan|RaceEthnicityCategory|AgeCategory|HeightInMeters|WeightInKilograms|BMI|AlcoholDrinkers|HIVTesting|FluVaxLast12|PneumoVaxEver|TetanusLast10Tdap|HighRiskLastYear|CovidPos|\n",
      "+-----+---+-------------+------------------+----------------+---------------+------------------+----------+------------+--------------+---------+---------+---------+-------------+-------+---------------------+----------------+------------+-----------+-------------------+-----------------------+-----------------------+-----------------+-------------------------+-----------------+------------+---------------+---------+---------------------+-----------+--------------+-----------------+---+---------------+----------+------------+-------------+-----------------+----------------+--------+\n",
      "|    0|  0|            0|                 0|               0|              0|                 0|         0|           0|             0|        0|        0|        0|            0|      0|                    0|               0|           0|          0|                  0|                      0|                      0|                0|                        0|                0|           0|              0|        0|                    0|          0|             0|                0|  0|              0|         0|           0|            0|                0|               0|       0|\n",
      "+-----+---+-------------+------------------+----------------+---------------+------------------+----------+------------+--------------+---------+---------+---------+-------------+-------+---------------------+----------------+------------+-----------+-------------------+-----------------------+-----------------------+-----------------+-------------------------+-----------------+------------+---------------+---------+---------------------+-----------+--------------+-----------------+---+---------------+----------+------------+-------------+-----------------+----------------+--------+\n",
      "\n"
     ]
    }
   ],
   "source": [
    "from pyspark.sql.functions import col, count\n",
    "\n",
    "# Check for null values in each column\n",
    "null_counts = forward_filled_df.select([count(when(col(c).isNull(), c)).alias(c) for c in forward_filled_df.columns])\n",
    "\n",
    "# Show the count of null values for each column\n",
    "null_counts.show()\n"
   ]
  },
  {
   "cell_type": "code",
   "execution_count": 65,
   "id": "607dfa43",
   "metadata": {},
   "outputs": [
    {
     "name": "stdout",
     "output_type": "stream",
     "text": [
      "+--------------+------+-------------+------------------+----------------+--------------------+------------------+----------+--------------------+--------------+---------+---------+---------+-------------+-------+---------------------+----------------+------------+-----------+-------------------+-----------------------+-----------------------+-----------------+-------------------------+-----------------+--------------------+--------------------+---------+---------------------+------------+--------------+-----------------+-----+---------------+----------+------------+-------------+--------------------+----------------+--------+\n",
      "|         State|   Sex|GeneralHealth|PhysicalHealthDays|MentalHealthDays|     LastCheckupTime|PhysicalActivities|SleepHours|        RemovedTeeth|HadHeartAttack|HadAngina|HadStroke|HadAsthma|HadSkinCancer|HadCOPD|HadDepressiveDisorder|HadKidneyDisease|HadArthritis|HadDiabetes|DeafOrHardOfHearing|BlindOrVisionDifficulty|DifficultyConcentrating|DifficultyWalking|DifficultyDressingBathing|DifficultyErrands|        SmokerStatus|     ECigaretteUsage|ChestScan|RaceEthnicityCategory| AgeCategory|HeightInMeters|WeightInKilograms|  BMI|AlcoholDrinkers|HIVTesting|FluVaxLast12|PneumoVaxEver|   TetanusLast10Tdap|HighRiskLastYear|CovidPos|\n",
      "+--------------+------+-------------+------------------+----------------+--------------------+------------------+----------+--------------------+--------------+---------+---------+---------+-------------+-------+---------------------+----------------+------------+-----------+-------------------+-----------------------+-----------------------+-----------------+-------------------------+-----------------+--------------------+--------------------+---------+---------------------+------------+--------------+-----------------+-----+---------------+----------+------------+-------------+--------------------+----------------+--------+\n",
      "|South Carolina|Female|    Very good|                 0|               0| 5 or more years ago|                No|         9|        None of them|            No|       No|       No|       No|           No|     No|                   No|              No|          No|         No|                 No|                     No|                     No|               No|                       No|               No|        Never smoked|Never used e-ciga...|       No| White only, Non-H...|Age 70 to 74|          1.52|            28.12|12.11|             No|        No|          No|           No|No, did not recei...|              No|      No|\n",
      "|      Arkansas|Female|         Poor|                30|              29|Within past year ...|                No|         7|                 All|            No|       No|       No|       No|           No|    Yes|                   No|              No|          No|        Yes|                Yes|                     No|                     No|              Yes|                       No|               No|        Never smoked|Never used e-ciga...|      Yes| White only, Non-H...|Age 60 to 64|          1.52|            29.48|12.69|             No|        No|         Yes|          Yes|No, did not recei...|              No|     Yes|\n",
      "|      Nebraska|Female|         Poor|                25|               0|Within past year ...|               Yes|         5|        None of them|            No|       No|       No|       No|           No|     No|                   No|             Yes|         Yes|         No|                Yes|                     No|                     No|              Yes|                       No|              Yes|Current smoker - ...|Never used e-ciga...|      Yes| White only, Non-H...|Age 75 to 79|          1.52|            29.48|12.69|             No|        No|          No|          Yes|Yes, received tet...|              No|      No|\n",
      "|   Puerto Rico|Female|         Fair|                30|               0|Within past year ...|                No|         6|6 or more, but no...|            No|       No|       No|       No|           No|     No|                  Yes|              No|         Yes|         No|                 No|                     No|                     No|               No|                       No|               No|       Former smoker|Not at all (right...|      Yes|             Hispanic|Age 75 to 79|          1.35|            30.39|16.77|             No|        No|         Yes|          Yes|No, did not recei...|              No|      No|\n",
      "|       Vermont|Female|         Poor|                30|               0|Within past 5 yea...|                No|         9|                 All|            No|       No|       No|       No|           No|    Yes|                   No|              No|          No|         No|                 No|                     No|                     No|              Yes|                       No|              Yes|Current smoker - ...|Never used e-ciga...|      Yes| White only, Non-H...|Age 65 to 69|          1.57|            30.84|12.44|             No|        No|          No|           No|No, did not recei...|              No|      No|\n",
      "+--------------+------+-------------+------------------+----------------+--------------------+------------------+----------+--------------------+--------------+---------+---------+---------+-------------+-------+---------------------+----------------+------------+-----------+-------------------+-----------------------+-----------------------+-----------------+-------------------------+-----------------+--------------------+--------------------+---------+---------------------+------------+--------------+-----------------+-----+---------------+----------+------------+-------------+--------------------+----------------+--------+\n",
      "only showing top 5 rows\n",
      "\n"
     ]
    }
   ],
   "source": [
    "# Display the first 5 rows of the DataFrame\n",
    "forward_filled_df.show(5)\n"
   ]
  },
  {
   "cell_type": "code",
   "execution_count": 66,
   "id": "0f5408fd",
   "metadata": {},
   "outputs": [],
   "source": [
    "# Rename the DataFrame to `data`\n",
    "data = forward_filled_df"
   ]
  },
  {
   "cell_type": "code",
   "execution_count": 67,
   "id": "071b45c2",
   "metadata": {},
   "outputs": [],
   "source": [
    "#Dropping unnecessary columns\n",
    "data = data.drop(\"PhysicalHealthDays\",\"MentalHealthDays\",\"RemovedTeeth\",\"ECigaretteUsage\",\"RaceEthnicityCategory\",\"TetanusLast10Tdap\",\"HighRiskLastYear\",\"CovidPos\")"
   ]
  },
  {
   "cell_type": "code",
   "execution_count": 68,
   "id": "8bc4d5d7",
   "metadata": {},
   "outputs": [
    {
     "name": "stdout",
     "output_type": "stream",
     "text": [
      "No of columns: 32\n",
      "No of Rows: 251540\n",
      "Columns & their data types: \n",
      "[('State', 'string'), ('Sex', 'string'), ('GeneralHealth', 'string'), ('LastCheckupTime', 'string'), ('PhysicalActivities', 'string'), ('SleepHours', 'int'), ('HadHeartAttack', 'string'), ('HadAngina', 'string'), ('HadStroke', 'string'), ('HadAsthma', 'string'), ('HadSkinCancer', 'string'), ('HadCOPD', 'string'), ('HadDepressiveDisorder', 'string'), ('HadKidneyDisease', 'string'), ('HadArthritis', 'string'), ('HadDiabetes', 'string'), ('DeafOrHardOfHearing', 'string'), ('BlindOrVisionDifficulty', 'string'), ('DifficultyConcentrating', 'string'), ('DifficultyWalking', 'string'), ('DifficultyDressingBathing', 'string'), ('DifficultyErrands', 'string'), ('SmokerStatus', 'string'), ('ChestScan', 'string'), ('AgeCategory', 'string'), ('HeightInMeters', 'double'), ('WeightInKilograms', 'double'), ('BMI', 'double'), ('AlcoholDrinkers', 'string'), ('HIVTesting', 'string'), ('FluVaxLast12', 'string'), ('PneumoVaxEver', 'string')]\n"
     ]
    }
   ],
   "source": [
    "print(f\"No of columns: {len(data.dtypes)}\")\n",
    "print(f\"No of Rows: {data.count()}\")\n",
    "print(f\"Columns & their data types: \\n{data.dtypes}\")"
   ]
  },
  {
   "cell_type": "code",
   "execution_count": 69,
   "id": "81ca7923",
   "metadata": {},
   "outputs": [
    {
     "name": "stdout",
     "output_type": "stream",
     "text": [
      "+-------------------+\n",
      "|HeightInCentimeters|\n",
      "+-------------------+\n",
      "|              152.0|\n",
      "|              152.0|\n",
      "|              152.0|\n",
      "|              135.0|\n",
      "|              157.0|\n",
      "|              160.0|\n",
      "|              150.0|\n",
      "|              150.0|\n",
      "|              142.0|\n",
      "|              137.0|\n",
      "|              163.0|\n",
      "|              127.0|\n",
      "|              142.0|\n",
      "|              160.0|\n",
      "|              160.0|\n",
      "|              145.0|\n",
      "|              147.0|\n",
      "|              152.0|\n",
      "|              150.0|\n",
      "|              150.0|\n",
      "+-------------------+\n",
      "only showing top 20 rows\n",
      "\n"
     ]
    }
   ],
   "source": [
    "# Replace the Height column with its values converted to centimeters \n",
    "data = data.withColumn(\"HeightInCentimeters\", (F.col(\"HeightInMeters\") * 100))\n",
    "\n",
    "data = data.drop(\"HeightInMeters\")\n",
    "# Show the updated DataFrame to verify the replacement\n",
    "data.select(\"HeightInCentimeters\").show()"
   ]
  },
  {
   "cell_type": "code",
   "execution_count": 70,
   "id": "c719f943",
   "metadata": {},
   "outputs": [
    {
     "name": "stdout",
     "output_type": "stream",
     "text": [
      "+------+--------+\n",
      "|Sex   |SexIndex|\n",
      "+------+--------+\n",
      "|Female|0       |\n",
      "|Female|0       |\n",
      "|Male  |1       |\n",
      "|Female|0       |\n",
      "|Male  |1       |\n",
      "|Female|0       |\n",
      "|Male  |1       |\n",
      "|Female|0       |\n",
      "|Male  |1       |\n",
      "|Female|0       |\n",
      "+------+--------+\n",
      "only showing top 10 rows\n",
      "\n"
     ]
    }
   ],
   "source": [
    "#label encoding for Sex col\n",
    "\n",
    "from pyspark.ml.feature import StringIndexer\n",
    "from pyspark.sql.functions import col\n",
    "\n",
    "indexer = StringIndexer(\n",
    "    inputCol=\"Sex\", \n",
    "    outputCol=\"SexIndex\",\n",
    "    stringOrderType=\"alphabetAsc\"  \n",
    ")\n",
    "\n",
    "data_indexed = indexer.fit(data).transform(data)\n",
    "\n",
    "data_indexed = data_indexed.withColumn(\n",
    "    \"SexIndex\", \n",
    "    col(\"SexIndex\").cast(\"integer\")\n",
    ")\n",
    "\n",
    "data_indexed.select([\"Sex\",\"SexIndex\"]).show(10, truncate=False)"
   ]
  },
  {
   "cell_type": "code",
   "execution_count": 73,
   "id": "b8a24084",
   "metadata": {},
   "outputs": [
    {
     "name": "stdout",
     "output_type": "stream",
     "text": [
      "+------------------+-----------------------+\n",
      "|PhysicalActivities|PhysicalActivitiesIndex|\n",
      "+------------------+-----------------------+\n",
      "|No                |0                      |\n",
      "|No                |0                      |\n",
      "|Yes               |1                      |\n",
      "|No                |0                      |\n",
      "|No                |0                      |\n",
      "|No                |0                      |\n",
      "|Yes               |1                      |\n",
      "|No                |0                      |\n",
      "|No                |0                      |\n",
      "|Yes               |1                      |\n",
      "+------------------+-----------------------+\n",
      "only showing top 10 rows\n",
      "\n"
     ]
    }
   ],
   "source": [
    "from pyspark.ml.feature import StringIndexer\n",
    "from pyspark.sql.functions import col\n",
    "\n",
    "# Initialize the StringIndexer for the PhysicalActivities column\n",
    "physical_activities_indexer = StringIndexer(\n",
    "    inputCol=\"PhysicalActivities\", \n",
    "    outputCol=\"PhysicalActivitiesIndex\",\n",
    "    stringOrderType=\"alphabetAsc\"  # Ensures order based on alphabetical sequence\n",
    ")\n",
    "\n",
    "# Fit and transform the indexer on the DataFrame\n",
    "data_indexed = physical_activities_indexer.fit(data).transform(data)\n",
    "\n",
    "# Cast the indexed column to integer\n",
    "data_indexed = data_indexed.withColumn(\n",
    "    \"PhysicalActivitiesIndex\", \n",
    "    col(\"PhysicalActivitiesIndex\").cast(\"integer\")\n",
    ")\n",
    "\n",
    "# Display the results\n",
    "data_indexed.select([\"PhysicalActivities\", \"PhysicalActivitiesIndex\"]).show(10, truncate=False)"
   ]
  },
  {
   "cell_type": "code",
   "execution_count": 74,
   "id": "0faf4970",
   "metadata": {},
   "outputs": [
    {
     "name": "stdout",
     "output_type": "stream",
     "text": [
      "+--------------+-------------------+\n",
      "|HadHeartAttack|HadHeartAttackIndex|\n",
      "+--------------+-------------------+\n",
      "|No            |0                  |\n",
      "|No            |0                  |\n",
      "|No            |0                  |\n",
      "|No            |0                  |\n",
      "|No            |0                  |\n",
      "|No            |0                  |\n",
      "|Yes           |1                  |\n",
      "|No            |0                  |\n",
      "|No            |0                  |\n",
      "|No            |0                  |\n",
      "+--------------+-------------------+\n",
      "only showing top 10 rows\n",
      "\n"
     ]
    }
   ],
   "source": [
    "#HadHeartAttack - Encoding\n",
    "\n",
    "indexer = StringIndexer(\n",
    "    inputCol=\"HadHeartAttack\", \n",
    "    outputCol=\"HadHeartAttackIndex\",\n",
    "    stringOrderType=\"alphabetAsc\"  \n",
    ")\n",
    "\n",
    "data_indexed = indexer.fit(data_indexed).transform(data_indexed)\n",
    "\n",
    "data_indexed = data_indexed.withColumn(\n",
    "    \"HadHeartAttackIndex\", \n",
    "    col(\"HadHeartAttackIndex\").cast(\"integer\")\n",
    ")\n",
    "\n",
    "data_indexed.select([\"HadHeartAttack\",\"HadHeartAttackIndex\"]).show(10, truncate=False)"
   ]
  },
  {
   "cell_type": "code",
   "execution_count": 75,
   "id": "19140dd2",
   "metadata": {},
   "outputs": [
    {
     "name": "stdout",
     "output_type": "stream",
     "text": [
      "+---------+--------------+\n",
      "|HadAngina|HadAnginaIndex|\n",
      "+---------+--------------+\n",
      "|No       |0             |\n",
      "|No       |0             |\n",
      "|Yes      |1             |\n",
      "|No       |0             |\n",
      "|No       |0             |\n",
      "|No       |0             |\n",
      "|No       |0             |\n",
      "|No       |0             |\n",
      "|No       |0             |\n",
      "|No       |0             |\n",
      "+---------+--------------+\n",
      "only showing top 10 rows\n",
      "\n"
     ]
    }
   ],
   "source": [
    "#HadAngina Encoding\n",
    "\n",
    "from pyspark.ml.feature import StringIndexer\n",
    "from pyspark.sql.functions import col\n",
    "\n",
    "indexer = StringIndexer(\n",
    "    inputCol=\"HadAngina\", \n",
    "    outputCol=\"HadAnginaIndex\",\n",
    "    stringOrderType=\"alphabetAsc\"  \n",
    ")\n",
    "\n",
    "data_indexed = indexer.fit(data_indexed).transform(data_indexed)\n",
    "\n",
    "data_indexed = data_indexed.withColumn(\n",
    "    \"HadAnginaIndex\", \n",
    "    col(\"HadAnginaIndex\").cast(\"integer\")\n",
    ")\n",
    "\n",
    "data_indexed.select([\"HadAngina\",\"HadAnginaIndex\"]).show(10, truncate=False)"
   ]
  },
  {
   "cell_type": "code",
   "execution_count": 76,
   "id": "7c101f9b",
   "metadata": {},
   "outputs": [
    {
     "name": "stdout",
     "output_type": "stream",
     "text": [
      "+---------+--------------+\n",
      "|HadStroke|HadStrokeIndex|\n",
      "+---------+--------------+\n",
      "|No       |0             |\n",
      "|No       |0             |\n",
      "|No       |0             |\n",
      "|No       |0             |\n",
      "|No       |0             |\n",
      "|Yes      |1             |\n",
      "|No       |0             |\n",
      "|No       |0             |\n",
      "|No       |0             |\n",
      "|No       |0             |\n",
      "+---------+--------------+\n",
      "only showing top 10 rows\n",
      "\n"
     ]
    }
   ],
   "source": [
    "# Encoding HadStroke Column\n",
    "\n",
    "indexer = StringIndexer(\n",
    "    inputCol=\"HadStroke\", \n",
    "    outputCol=\"HadStrokeIndex\",\n",
    "    stringOrderType=\"alphabetAsc\"  \n",
    ")\n",
    "\n",
    "data_indexed = indexer.fit(data_indexed).transform(data_indexed)\n",
    "\n",
    "data_indexed = data_indexed.withColumn(\n",
    "    \"HadStrokeIndex\", \n",
    "    col(\"HadStrokeIndex\").cast(\"integer\")\n",
    ")\n",
    "data_indexed.select([\"HadStroke\",\"HadStrokeIndex\"]).show(10, truncate=False)"
   ]
  },
  {
   "cell_type": "code",
   "execution_count": 77,
   "id": "a1b2465c",
   "metadata": {},
   "outputs": [
    {
     "name": "stdout",
     "output_type": "stream",
     "text": [
      "+---------+-------------+-------+---------------------+----------------+------------+\n",
      "|HadAsthma|HadSkinCancer|HadCOPD|HadDepressiveDisorder|HadKidneyDisease|HadArthritis|\n",
      "+---------+-------------+-------+---------------------+----------------+------------+\n",
      "|       No|           No|     No|                   No|              No|          No|\n",
      "|       No|           No|     No|                   No|             Yes|         Yes|\n",
      "|       No|           No|    Yes|                   No|              No|          No|\n",
      "|       No|           No|     No|                  Yes|              No|         Yes|\n",
      "|       No|           No|    Yes|                   No|              No|          No|\n",
      "|       No|           No|    Yes|                   No|              No|          No|\n",
      "|      Yes|           No|     No|                   No|              No|         Yes|\n",
      "|       No|           No|     No|                   No|              No|          No|\n",
      "|       No|           No|    Yes|                   No|             Yes|         Yes|\n",
      "|       No|           No|     No|                   No|              No|         Yes|\n",
      "|       No|           No|     No|                   No|             Yes|         Yes|\n",
      "|       No|           No|     No|                   No|              No|         Yes|\n",
      "|       No|           No|    Yes|                   No|              No|         Yes|\n",
      "|       No|           No|    Yes|                   No|              No|         Yes|\n",
      "|       No|           No|     No|                   No|              No|          No|\n",
      "|      Yes|           No|     No|                  Yes|              No|         Yes|\n",
      "|       No|           No|     No|                   No|             Yes|          No|\n",
      "|      Yes|           No|    Yes|                   No|              No|         Yes|\n",
      "|       No|           No|     No|                  Yes|              No|          No|\n",
      "|      Yes|           No|     No|                   No|              No|          No|\n",
      "+---------+-------------+-------+---------------------+----------------+------------+\n",
      "only showing top 20 rows\n",
      "\n"
     ]
    }
   ],
   "source": [
    "data_indexed.select(data_indexed.columns[9:15]).show()"
   ]
  },
  {
   "cell_type": "code",
   "execution_count": 78,
   "id": "c62e69d9",
   "metadata": {},
   "outputs": [
    {
     "name": "stdout",
     "output_type": "stream",
     "text": [
      "+---------+--------------+\n",
      "|HadAsthma|HadAsthmaIndex|\n",
      "+---------+--------------+\n",
      "|No       |0             |\n",
      "|No       |0             |\n",
      "|No       |0             |\n",
      "|No       |0             |\n",
      "|No       |0             |\n",
      "|No       |0             |\n",
      "|No       |0             |\n",
      "|No       |0             |\n",
      "|No       |0             |\n",
      "|No       |0             |\n",
      "+---------+--------------+\n",
      "only showing top 10 rows\n",
      "\n"
     ]
    }
   ],
   "source": [
    "# Encoding HadAsthma Column\n",
    "\n",
    "indexer = StringIndexer(\n",
    "    inputCol=\"HadAsthma\", \n",
    "    outputCol=\"HadAsthmaIndex\",\n",
    "    stringOrderType=\"alphabetAsc\"  \n",
    ")\n",
    "\n",
    "data_indexed = indexer.fit(data_indexed).transform(data_indexed)\n",
    "\n",
    "data_indexed = data_indexed.withColumn(\n",
    "    \"HadAsthmaIndex\", \n",
    "    col(\"HadAsthmaIndex\").cast(\"integer\")\n",
    ")\n",
    "\n",
    "data_indexed.select([\"HadAsthma\",\"HadAsthmaIndex\"]).show(10, truncate=False)"
   ]
  },
  {
   "cell_type": "code",
   "execution_count": 79,
   "id": "1eaa8aaa",
   "metadata": {},
   "outputs": [
    {
     "name": "stdout",
     "output_type": "stream",
     "text": [
      "+-------------+------------------+\n",
      "|HadSkinCancer|HadSkinCancerIndex|\n",
      "+-------------+------------------+\n",
      "|No           |0                 |\n",
      "|No           |0                 |\n",
      "|No           |0                 |\n",
      "|Yes          |1                 |\n",
      "|No           |0                 |\n",
      "|No           |0                 |\n",
      "|No           |0                 |\n",
      "|Yes          |1                 |\n",
      "|No           |0                 |\n",
      "|No           |0                 |\n",
      "+-------------+------------------+\n",
      "only showing top 10 rows\n",
      "\n"
     ]
    }
   ],
   "source": [
    "# Encoding HadSkinCancer Column\n",
    "\n",
    "indexer = StringIndexer(\n",
    "    inputCol=\"HadSkinCancer\", \n",
    "    outputCol=\"HadSkinCancerIndex\",\n",
    "    stringOrderType=\"alphabetAsc\"  \n",
    ")\n",
    "\n",
    "data_indexed = indexer.fit(data_indexed).transform(data_indexed)\n",
    "\n",
    "data_indexed = data_indexed.withColumn(\n",
    "    \"HadSkinCancerIndex\", \n",
    "    col(\"HadSkinCancerIndex\").cast(\"integer\")\n",
    ")\n",
    "\n",
    "data_indexed.select([\"HadSkinCancer\",\"HadSkinCancerIndex\"]).show(10, truncate=False)"
   ]
  },
  {
   "cell_type": "code",
   "execution_count": 80,
   "id": "2ba711af",
   "metadata": {},
   "outputs": [
    {
     "name": "stdout",
     "output_type": "stream",
     "text": [
      "+-------+------------+\n",
      "|HadCOPD|HadCOPDIndex|\n",
      "+-------+------------+\n",
      "|No     |0           |\n",
      "|No     |0           |\n",
      "|No     |0           |\n",
      "|No     |0           |\n",
      "|No     |0           |\n",
      "|No     |0           |\n",
      "|Yes    |1           |\n",
      "|No     |0           |\n",
      "|No     |0           |\n",
      "|No     |0           |\n",
      "+-------+------------+\n",
      "only showing top 10 rows\n",
      "\n"
     ]
    }
   ],
   "source": [
    "# Encoding HadCOPD Column\n",
    "\n",
    "indexer = StringIndexer(\n",
    "    inputCol=\"HadCOPD\", \n",
    "    outputCol=\"HadCOPDIndex\",\n",
    "    stringOrderType=\"alphabetAsc\"  \n",
    ")\n",
    "\n",
    "data_indexed = indexer.fit(data_indexed).transform(data_indexed)\n",
    "\n",
    "data_indexed = data_indexed.withColumn(\n",
    "    \"HadCOPDIndex\", \n",
    "    col(\"HadCOPDIndex\").cast(\"integer\")\n",
    ")\n",
    "\n",
    "data_indexed.select([\"HadCOPD\",\"HadCOPDIndex\"]).show(10, truncate=False)"
   ]
  },
  {
   "cell_type": "code",
   "execution_count": 81,
   "id": "af3c8634",
   "metadata": {},
   "outputs": [
    {
     "name": "stdout",
     "output_type": "stream",
     "text": [
      "+---------------------+--------------------------+\n",
      "|HadDepressiveDisorder|HadDepressiveDisorderIndex|\n",
      "+---------------------+--------------------------+\n",
      "|No                   |0                         |\n",
      "|No                   |0                         |\n",
      "|No                   |0                         |\n",
      "|No                   |0                         |\n",
      "|No                   |0                         |\n",
      "|Yes                  |1                         |\n",
      "|No                   |0                         |\n",
      "|No                   |0                         |\n",
      "|No                   |0                         |\n",
      "|No                   |0                         |\n",
      "+---------------------+--------------------------+\n",
      "only showing top 10 rows\n",
      "\n"
     ]
    }
   ],
   "source": [
    "# Encoding HadDepressiveDisorder Column\n",
    "\n",
    "indexer = StringIndexer(\n",
    "    inputCol=\"HadDepressiveDisorder\", \n",
    "    outputCol=\"HadDepressiveDisorderIndex\",\n",
    "    stringOrderType=\"alphabetAsc\"  \n",
    ")\n",
    "\n",
    "data_indexed = indexer.fit(data_indexed).transform(data_indexed)\n",
    "\n",
    "data_indexed = data_indexed.withColumn(\n",
    "    \"HadDepressiveDisorderIndex\", \n",
    "    col(\"HadDepressiveDisorderIndex\").cast(\"integer\")\n",
    ")\n",
    "\n",
    "data_indexed.select([\"HadDepressiveDisorder\",\"HadDepressiveDisorderIndex\"]).show(10, truncate=False)"
   ]
  },
  {
   "cell_type": "code",
   "execution_count": 82,
   "id": "14fedf79",
   "metadata": {},
   "outputs": [
    {
     "name": "stdout",
     "output_type": "stream",
     "text": [
      "+----------------+---------------------+\n",
      "|HadKidneyDisease|HadKidneyDiseaseIndex|\n",
      "+----------------+---------------------+\n",
      "|No              |0                    |\n",
      "|No              |0                    |\n",
      "|No              |0                    |\n",
      "|No              |0                    |\n",
      "|No              |0                    |\n",
      "|Yes             |1                    |\n",
      "|No              |0                    |\n",
      "|No              |0                    |\n",
      "|No              |0                    |\n",
      "|No              |0                    |\n",
      "+----------------+---------------------+\n",
      "only showing top 10 rows\n",
      "\n"
     ]
    }
   ],
   "source": [
    "# Encoding HadKidneyDisease Column\n",
    "\n",
    "indexer = StringIndexer(\n",
    "    inputCol=\"HadKidneyDisease\", \n",
    "    outputCol=\"HadKidneyDiseaseIndex\",\n",
    "    stringOrderType=\"alphabetAsc\"  \n",
    ")\n",
    "\n",
    "data_indexed = indexer.fit(data_indexed).transform(data_indexed)\n",
    "\n",
    "data_indexed = data_indexed.withColumn(\n",
    "    \"HadKidneyDiseaseIndex\", \n",
    "    col(\"HadKidneyDiseaseIndex\").cast(\"integer\")\n",
    ")\n",
    "\n",
    "data_indexed.select([\"HadKidneyDisease\",\"HadKidneyDiseaseIndex\"]).show(10, truncate=False)"
   ]
  },
  {
   "cell_type": "code",
   "execution_count": 83,
   "id": "c01e25ec",
   "metadata": {},
   "outputs": [
    {
     "name": "stdout",
     "output_type": "stream",
     "text": [
      "+------------+-----------------+\n",
      "|HadArthritis|HadArthritisIndex|\n",
      "+------------+-----------------+\n",
      "|Yes         |1                |\n",
      "|No          |0                |\n",
      "|No          |0                |\n",
      "|No          |0                |\n",
      "|No          |0                |\n",
      "|Yes         |1                |\n",
      "|Yes         |1                |\n",
      "|No          |0                |\n",
      "|Yes         |1                |\n",
      "|Yes         |1                |\n",
      "+------------+-----------------+\n",
      "only showing top 10 rows\n",
      "\n"
     ]
    }
   ],
   "source": [
    "# Encoding HadArthritis Column\n",
    "\n",
    "indexer = StringIndexer(\n",
    "    inputCol=\"HadArthritis\", \n",
    "    outputCol=\"HadArthritisIndex\",\n",
    "    stringOrderType=\"alphabetAsc\"  \n",
    ")\n",
    "\n",
    "data_indexed = indexer.fit(data_indexed).transform(data_indexed)\n",
    "\n",
    "data_indexed = data_indexed.withColumn(\n",
    "    \"HadArthritisIndex\", \n",
    "    col(\"HadArthritisIndex\").cast(\"integer\")\n",
    ")\n",
    "\n",
    "data_indexed.select([\"HadArthritis\",\"HadArthritisIndex\"]).show(10, truncate=False)"
   ]
  },
  {
   "cell_type": "code",
   "execution_count": 84,
   "id": "d537e121",
   "metadata": {},
   "outputs": [
    {
     "name": "stdout",
     "output_type": "stream",
     "text": [
      "+-----------+----------------+\n",
      "|HadDiabetes|HadDiabetesIndex|\n",
      "+-----------+----------------+\n",
      "|No         |0               |\n",
      "|No         |0               |\n",
      "|No         |0               |\n",
      "|No         |0               |\n",
      "|No         |0               |\n",
      "|Yes        |2               |\n",
      "|Yes        |2               |\n",
      "|No         |0               |\n",
      "|No         |0               |\n",
      "|No         |0               |\n",
      "+-----------+----------------+\n",
      "only showing top 10 rows\n",
      "\n"
     ]
    }
   ],
   "source": [
    "# Encoding HadDiabetes Column\n",
    "\n",
    "indexer = StringIndexer(\n",
    "    inputCol=\"HadDiabetes\", \n",
    "    outputCol=\"HadDiabetesIndex\",\n",
    "    stringOrderType=\"alphabetAsc\"  \n",
    ")\n",
    "\n",
    "data_indexed = indexer.fit(data_indexed).transform(data_indexed)\n",
    "\n",
    "data_indexed = data_indexed.withColumn(\n",
    "    \"HadDiabetesIndex\", \n",
    "    col(\"HadDiabetesIndex\").cast(\"integer\")\n",
    ")\n",
    "\n",
    "data_indexed.select([\"HadDiabetes\",\"HadDiabetesIndex\"]).show(10, truncate=False)"
   ]
  },
  {
   "cell_type": "code",
   "execution_count": 85,
   "id": "d0d26414",
   "metadata": {},
   "outputs": [
    {
     "name": "stdout",
     "output_type": "stream",
     "text": [
      "+-------------------+------------------------+\n",
      "|DeafOrHardOfHearing|DeafOrHardOfHearingIndex|\n",
      "+-------------------+------------------------+\n",
      "|No                 |0                       |\n",
      "|Yes                |1                       |\n",
      "|No                 |0                       |\n",
      "|No                 |0                       |\n",
      "|No                 |0                       |\n",
      "|No                 |0                       |\n",
      "|Yes                |1                       |\n",
      "|No                 |0                       |\n",
      "|No                 |0                       |\n",
      "|No                 |0                       |\n",
      "+-------------------+------------------------+\n",
      "only showing top 10 rows\n",
      "\n"
     ]
    }
   ],
   "source": [
    "# Encoding DeafOrHardOfHearing Column\n",
    "\n",
    "indexer = StringIndexer(\n",
    "    inputCol=\"DeafOrHardOfHearing\", \n",
    "    outputCol=\"DeafOrHardOfHearingIndex\",\n",
    "    stringOrderType=\"alphabetAsc\"  \n",
    ")\n",
    "\n",
    "data_indexed = indexer.fit(data_indexed).transform(data_indexed)\n",
    "\n",
    "data_indexed = data_indexed.withColumn(\n",
    "    \"DeafOrHardOfHearingIndex\", \n",
    "    col(\"DeafOrHardOfHearingIndex\").cast(\"integer\")\n",
    ")\n",
    "\n",
    "data_indexed.select([\"DeafOrHardOfHearing\",\"DeafOrHardOfHearingIndex\"]).show(10, truncate=False)"
   ]
  },
  {
   "cell_type": "code",
   "execution_count": 86,
   "id": "bad40778",
   "metadata": {},
   "outputs": [
    {
     "name": "stdout",
     "output_type": "stream",
     "text": [
      "+-----------------------+----------------------------+\n",
      "|BlindOrVisionDifficulty|BlindOrVisionDifficultyIndex|\n",
      "+-----------------------+----------------------------+\n",
      "|No                     |0                           |\n",
      "|No                     |0                           |\n",
      "|No                     |0                           |\n",
      "|No                     |0                           |\n",
      "|No                     |0                           |\n",
      "|No                     |0                           |\n",
      "|No                     |0                           |\n",
      "|No                     |0                           |\n",
      "|No                     |0                           |\n",
      "|No                     |0                           |\n",
      "+-----------------------+----------------------------+\n",
      "only showing top 10 rows\n",
      "\n"
     ]
    }
   ],
   "source": [
    "# Encoding BlindOrVisionDifficulty Column\n",
    "\n",
    "indexer = StringIndexer(\n",
    "    inputCol=\"BlindOrVisionDifficulty\", \n",
    "    outputCol=\"BlindOrVisionDifficultyIndex\",\n",
    "    stringOrderType=\"alphabetAsc\"  \n",
    ")\n",
    "\n",
    "data_indexed = indexer.fit(data_indexed).transform(data_indexed)\n",
    "\n",
    "data_indexed = data_indexed.withColumn(\n",
    "    \"BlindOrVisionDifficultyIndex\", \n",
    "    col(\"BlindOrVisionDifficultyIndex\").cast(\"integer\")\n",
    ")\n",
    "\n",
    "data_indexed.select([\"BlindOrVisionDifficulty\",\"BlindOrVisionDifficultyIndex\"]).show(10, truncate=False)"
   ]
  },
  {
   "cell_type": "code",
   "execution_count": 87,
   "id": "6839a417",
   "metadata": {},
   "outputs": [
    {
     "name": "stdout",
     "output_type": "stream",
     "text": [
      "+-----------------------+----------------------------+\n",
      "|DifficultyConcentrating|DifficultyConcentratingIndex|\n",
      "+-----------------------+----------------------------+\n",
      "|No                     |0                           |\n",
      "|No                     |0                           |\n",
      "|No                     |0                           |\n",
      "|No                     |0                           |\n",
      "|No                     |0                           |\n",
      "|Yes                    |1                           |\n",
      "|No                     |0                           |\n",
      "|No                     |0                           |\n",
      "|No                     |0                           |\n",
      "|No                     |0                           |\n",
      "+-----------------------+----------------------------+\n",
      "only showing top 10 rows\n",
      "\n"
     ]
    }
   ],
   "source": [
    "# Encoding DifficultyConcentrating Column\n",
    "\n",
    "indexer = StringIndexer(\n",
    "    inputCol=\"DifficultyConcentrating\", \n",
    "    outputCol=\"DifficultyConcentratingIndex\",\n",
    "    stringOrderType=\"alphabetAsc\"  \n",
    ")\n",
    "\n",
    "data_indexed = indexer.fit(data_indexed).transform(data_indexed)\n",
    "\n",
    "data_indexed = data_indexed.withColumn(\n",
    "    \"DifficultyConcentratingIndex\", \n",
    "    col(\"DifficultyConcentratingIndex\").cast(\"integer\")\n",
    ")\n",
    "\n",
    "data_indexed.select([\"DifficultyConcentrating\",\"DifficultyConcentratingIndex\"]).show(10, truncate=False)"
   ]
  },
  {
   "cell_type": "code",
   "execution_count": 88,
   "id": "8e91dc59",
   "metadata": {},
   "outputs": [
    {
     "name": "stdout",
     "output_type": "stream",
     "text": [
      "+-----------------+----------------------+\n",
      "|DifficultyWalking|DifficultyWalkingIndex|\n",
      "+-----------------+----------------------+\n",
      "|Yes              |1                     |\n",
      "|No               |0                     |\n",
      "|No               |0                     |\n",
      "|No               |0                     |\n",
      "|No               |0                     |\n",
      "|Yes              |1                     |\n",
      "|No               |0                     |\n",
      "|No               |0                     |\n",
      "|Yes              |1                     |\n",
      "|No               |0                     |\n",
      "+-----------------+----------------------+\n",
      "only showing top 10 rows\n",
      "\n"
     ]
    }
   ],
   "source": [
    "# Encoding DifficultyWalking Column\n",
    "\n",
    "indexer = StringIndexer(\n",
    "    inputCol=\"DifficultyWalking\", \n",
    "    outputCol=\"DifficultyWalkingIndex\",\n",
    "    stringOrderType=\"alphabetAsc\"  \n",
    ")\n",
    "\n",
    "data_indexed = indexer.fit(data_indexed).transform(data_indexed)\n",
    "\n",
    "data_indexed = data_indexed.withColumn(\n",
    "    \"DifficultyWalkingIndex\", \n",
    "    col(\"DifficultyWalkingIndex\").cast(\"integer\")\n",
    ")\n",
    "\n",
    "data_indexed.select([\"DifficultyWalking\",\"DifficultyWalkingIndex\"]).show(10, truncate=False)"
   ]
  },
  {
   "cell_type": "code",
   "execution_count": 89,
   "id": "7b314041",
   "metadata": {},
   "outputs": [
    {
     "name": "stdout",
     "output_type": "stream",
     "text": [
      "+-------------------------+------------------------------+\n",
      "|DifficultyDressingBathing|DifficultyDressingBathingIndex|\n",
      "+-------------------------+------------------------------+\n",
      "|No                       |0                             |\n",
      "|No                       |0                             |\n",
      "|No                       |0                             |\n",
      "|No                       |0                             |\n",
      "|No                       |0                             |\n",
      "|Yes                      |1                             |\n",
      "|No                       |0                             |\n",
      "|No                       |0                             |\n",
      "|Yes                      |1                             |\n",
      "|No                       |0                             |\n",
      "+-------------------------+------------------------------+\n",
      "only showing top 10 rows\n",
      "\n"
     ]
    }
   ],
   "source": [
    "# Encoding DifficultyDressingBathing Column\n",
    "\n",
    "indexer = StringIndexer(\n",
    "    inputCol=\"DifficultyDressingBathing\", \n",
    "    outputCol=\"DifficultyDressingBathingIndex\",\n",
    "    stringOrderType=\"alphabetAsc\"  \n",
    ")\n",
    "\n",
    "data_indexed = indexer.fit(data_indexed).transform(data_indexed)\n",
    "\n",
    "data_indexed = data_indexed.withColumn(\n",
    "    \"DifficultyDressingBathingIndex\", \n",
    "    col(\"DifficultyDressingBathingIndex\").cast(\"integer\")\n",
    ")\n",
    "\n",
    "data_indexed.select([\"DifficultyDressingBathing\",\"DifficultyDressingBathingIndex\"]).show(10, truncate=False)"
   ]
  },
  {
   "cell_type": "code",
   "execution_count": 90,
   "id": "7a211524",
   "metadata": {},
   "outputs": [
    {
     "name": "stdout",
     "output_type": "stream",
     "text": [
      "+-----------------+----------------------+\n",
      "|DifficultyErrands|DifficultyErrandsIndex|\n",
      "+-----------------+----------------------+\n",
      "|No               |0                     |\n",
      "|No               |0                     |\n",
      "|No               |0                     |\n",
      "|No               |0                     |\n",
      "|No               |0                     |\n",
      "|No               |0                     |\n",
      "|No               |0                     |\n",
      "|No               |0                     |\n",
      "|No               |0                     |\n",
      "|No               |0                     |\n",
      "+-----------------+----------------------+\n",
      "only showing top 10 rows\n",
      "\n"
     ]
    }
   ],
   "source": [
    "# Encoding DifficultyErrands Column\n",
    "\n",
    "indexer = StringIndexer(\n",
    "    inputCol=\"DifficultyErrands\", \n",
    "    outputCol=\"DifficultyErrandsIndex\",\n",
    "    stringOrderType=\"alphabetAsc\"  \n",
    ")\n",
    "\n",
    "data_indexed = indexer.fit(data_indexed).transform(data_indexed)\n",
    "\n",
    "data_indexed = data_indexed.withColumn(\n",
    "    \"DifficultyErrandsIndex\", \n",
    "    col(\"DifficultyErrandsIndex\").cast(\"integer\")\n",
    ")\n",
    "\n",
    "data_indexed.select([\"DifficultyErrands\",\"DifficultyErrandsIndex\"]).show(10, truncate=False)"
   ]
  },
  {
   "cell_type": "code",
   "execution_count": 91,
   "id": "58588be0",
   "metadata": {},
   "outputs": [
    {
     "name": "stdout",
     "output_type": "stream",
     "text": [
      "+---------------+--------------------+\n",
      "|AlcoholDrinkers|AlcoholDrinkersIndex|\n",
      "+---------------+--------------------+\n",
      "|Yes            |1                   |\n",
      "|Yes            |1                   |\n",
      "|Yes            |1                   |\n",
      "|Yes            |1                   |\n",
      "|No             |0                   |\n",
      "|No             |0                   |\n",
      "|Yes            |1                   |\n",
      "|No             |0                   |\n",
      "|No             |0                   |\n",
      "|Yes            |1                   |\n",
      "+---------------+--------------------+\n",
      "only showing top 10 rows\n",
      "\n"
     ]
    }
   ],
   "source": [
    "# Encoding AlcoholDrinkers Column\n",
    "\n",
    "indexer = StringIndexer(\n",
    "    inputCol=\"AlcoholDrinkers\", \n",
    "    outputCol=\"AlcoholDrinkersIndex\",\n",
    "    stringOrderType=\"alphabetAsc\"  \n",
    ")\n",
    "\n",
    "data_indexed = indexer.fit(data_indexed).transform(data_indexed)\n",
    "\n",
    "data_indexed = data_indexed.withColumn(\n",
    "    \"AlcoholDrinkersIndex\", \n",
    "    col(\"AlcoholDrinkersIndex\").cast(\"integer\")\n",
    ")\n",
    "\n",
    "data_indexed.select([\"AlcoholDrinkers\",\"AlcoholDrinkersIndex\"]).show(10, truncate=False)"
   ]
  },
  {
   "cell_type": "code",
   "execution_count": 92,
   "id": "c881e1b3",
   "metadata": {},
   "outputs": [
    {
     "name": "stdout",
     "output_type": "stream",
     "text": [
      "+----------+---------------+\n",
      "|HIVTesting|HIVTestingIndex|\n",
      "+----------+---------------+\n",
      "|No        |0              |\n",
      "|No        |0              |\n",
      "|No        |0              |\n",
      "|No        |0              |\n",
      "|No        |0              |\n",
      "|No        |0              |\n",
      "|No        |0              |\n",
      "|No        |0              |\n",
      "|Yes       |1              |\n",
      "|Yes       |1              |\n",
      "+----------+---------------+\n",
      "only showing top 10 rows\n",
      "\n"
     ]
    }
   ],
   "source": [
    "# Encoding HIVTesting Column\n",
    "\n",
    "indexer = StringIndexer(\n",
    "    inputCol=\"HIVTesting\", \n",
    "    outputCol=\"HIVTestingIndex\",\n",
    "    stringOrderType=\"alphabetAsc\"  \n",
    ")\n",
    "\n",
    "data_indexed = indexer.fit(data_indexed).transform(data_indexed)\n",
    "\n",
    "data_indexed = data_indexed.withColumn(\n",
    "    \"HIVTestingIndex\", \n",
    "    col(\"HIVTestingIndex\").cast(\"integer\")\n",
    ")\n",
    "\n",
    "data_indexed.select([\"HIVTesting\",\"HIVTestingIndex\"]).show(10, truncate=False)"
   ]
  },
  {
   "cell_type": "code",
   "execution_count": 93,
   "id": "a43ceefc",
   "metadata": {},
   "outputs": [
    {
     "name": "stdout",
     "output_type": "stream",
     "text": [
      "+------------+-----------------+\n",
      "|FluVaxLast12|FluVaxLast12Index|\n",
      "+------------+-----------------+\n",
      "|Yes         |1                |\n",
      "|Yes         |1                |\n",
      "|Yes         |1                |\n",
      "|Yes         |1                |\n",
      "|No          |0                |\n",
      "|No          |0                |\n",
      "|No          |0                |\n",
      "|Yes         |1                |\n",
      "|No          |0                |\n",
      "|No          |0                |\n",
      "+------------+-----------------+\n",
      "only showing top 10 rows\n",
      "\n"
     ]
    }
   ],
   "source": [
    "# Encoding FluVaxLast12 Column\n",
    "\n",
    "indexer = StringIndexer(\n",
    "    inputCol=\"FluVaxLast12\", \n",
    "    outputCol=\"FluVaxLast12Index\",\n",
    "    stringOrderType=\"alphabetAsc\"  \n",
    ")\n",
    "\n",
    "data_indexed = indexer.fit(data_indexed).transform(data_indexed)\n",
    "\n",
    "data_indexed = data_indexed.withColumn(\n",
    "    \"FluVaxLast12Index\", \n",
    "    col(\"FluVaxLast12Index\").cast(\"integer\")\n",
    ")\n",
    "\n",
    "data_indexed.select([\"FluVaxLast12\",\"FluVaxLast12Index\"]).show(10, truncate=False)"
   ]
  },
  {
   "cell_type": "code",
   "execution_count": 94,
   "id": "16d0def3",
   "metadata": {},
   "outputs": [
    {
     "name": "stdout",
     "output_type": "stream",
     "text": [
      "+-------------+------------------+\n",
      "|PneumoVaxEver|PneumoVaxEverIndex|\n",
      "+-------------+------------------+\n",
      "|No           |0                 |\n",
      "|No           |0                 |\n",
      "|No           |0                 |\n",
      "|Yes          |1                 |\n",
      "|No           |0                 |\n",
      "|Yes          |1                 |\n",
      "|Yes          |1                 |\n",
      "|Yes          |1                 |\n",
      "|No           |0                 |\n",
      "|No           |0                 |\n",
      "+-------------+------------------+\n",
      "only showing top 10 rows\n",
      "\n"
     ]
    }
   ],
   "source": [
    "# Encoding PneumoVaxEver Column\n",
    "\n",
    "indexer = StringIndexer(\n",
    "    inputCol=\"PneumoVaxEver\", \n",
    "    outputCol=\"PneumoVaxEverIndex\",\n",
    "    stringOrderType=\"alphabetAsc\"  \n",
    ")\n",
    "\n",
    "data_indexed = indexer.fit(data_indexed).transform(data_indexed)\n",
    "\n",
    "data_indexed = data_indexed.withColumn(\n",
    "    \"PneumoVaxEverIndex\", \n",
    "    col(\"PneumoVaxEverIndex\").cast(\"integer\")\n",
    ")\n",
    "\n",
    "data_indexed.select([\"PneumoVaxEver\",\"PneumoVaxEverIndex\"]).show(10, truncate=False)"
   ]
  },
  {
   "cell_type": "code",
   "execution_count": 95,
   "id": "cbe23a1d",
   "metadata": {},
   "outputs": [
    {
     "name": "stdout",
     "output_type": "stream",
     "text": [
      "root\n",
      " |-- State: string (nullable = true)\n",
      " |-- Sex: string (nullable = true)\n",
      " |-- GeneralHealth: string (nullable = true)\n",
      " |-- LastCheckupTime: string (nullable = true)\n",
      " |-- PhysicalActivities: string (nullable = true)\n",
      " |-- SleepHours: integer (nullable = true)\n",
      " |-- HadHeartAttack: string (nullable = true)\n",
      " |-- HadAngina: string (nullable = true)\n",
      " |-- HadStroke: string (nullable = true)\n",
      " |-- HadAsthma: string (nullable = true)\n",
      " |-- HadSkinCancer: string (nullable = true)\n",
      " |-- HadCOPD: string (nullable = true)\n",
      " |-- HadDepressiveDisorder: string (nullable = true)\n",
      " |-- HadKidneyDisease: string (nullable = true)\n",
      " |-- HadArthritis: string (nullable = true)\n",
      " |-- HadDiabetes: string (nullable = true)\n",
      " |-- DeafOrHardOfHearing: string (nullable = true)\n",
      " |-- BlindOrVisionDifficulty: string (nullable = true)\n",
      " |-- DifficultyConcentrating: string (nullable = true)\n",
      " |-- DifficultyWalking: string (nullable = true)\n",
      " |-- DifficultyDressingBathing: string (nullable = true)\n",
      " |-- DifficultyErrands: string (nullable = true)\n",
      " |-- SmokerStatus: string (nullable = true)\n",
      " |-- ChestScan: string (nullable = true)\n",
      " |-- AgeCategory: string (nullable = true)\n",
      " |-- WeightInKilograms: double (nullable = true)\n",
      " |-- BMI: double (nullable = true)\n",
      " |-- AlcoholDrinkers: string (nullable = true)\n",
      " |-- HIVTesting: string (nullable = true)\n",
      " |-- FluVaxLast12: string (nullable = true)\n",
      " |-- PneumoVaxEver: string (nullable = true)\n",
      " |-- HeightInCentimeters: double (nullable = true)\n",
      " |-- PhysicalActivitiesIndex: integer (nullable = true)\n",
      " |-- HadHeartAttackIndex: integer (nullable = true)\n",
      " |-- HadAnginaIndex: integer (nullable = true)\n",
      " |-- HadStrokeIndex: integer (nullable = true)\n",
      " |-- HadAsthmaIndex: integer (nullable = true)\n",
      " |-- HadSkinCancerIndex: integer (nullable = true)\n",
      " |-- HadCOPDIndex: integer (nullable = true)\n",
      " |-- HadDepressiveDisorderIndex: integer (nullable = true)\n",
      " |-- HadKidneyDiseaseIndex: integer (nullable = true)\n",
      " |-- HadArthritisIndex: integer (nullable = true)\n",
      " |-- HadDiabetesIndex: integer (nullable = true)\n",
      " |-- DeafOrHardOfHearingIndex: integer (nullable = true)\n",
      " |-- BlindOrVisionDifficultyIndex: integer (nullable = true)\n",
      " |-- DifficultyConcentratingIndex: integer (nullable = true)\n",
      " |-- DifficultyWalkingIndex: integer (nullable = true)\n",
      " |-- DifficultyDressingBathingIndex: integer (nullable = true)\n",
      " |-- DifficultyErrandsIndex: integer (nullable = true)\n",
      " |-- AlcoholDrinkersIndex: integer (nullable = true)\n",
      " |-- HIVTestingIndex: integer (nullable = true)\n",
      " |-- FluVaxLast12Index: integer (nullable = true)\n",
      " |-- PneumoVaxEverIndex: integer (nullable = true)\n",
      "\n"
     ]
    }
   ],
   "source": [
    "data_indexed.printSchema()"
   ]
  },
  {
   "cell_type": "code",
   "execution_count": 96,
   "id": "aefb2b84",
   "metadata": {},
   "outputs": [
    {
     "name": "stdout",
     "output_type": "stream",
     "text": [
      "+--------------+--------------+\n",
      "|State         |StateFrequency|\n",
      "+--------------+--------------+\n",
      "|South Carolina|5538          |\n",
      "|Arkansas      |3006          |\n",
      "|Nebraska      |5208          |\n",
      "|Puerto Rico   |3659          |\n",
      "|Vermont       |4938          |\n",
      "|Vermont       |4938          |\n",
      "|West Virginia |3034          |\n",
      "|Georgia       |5068          |\n",
      "|Ohio          |9181          |\n",
      "|Kansas        |6312          |\n",
      "+--------------+--------------+\n",
      "only showing top 10 rows\n",
      "\n"
     ]
    }
   ],
   "source": [
    "#Frequency Encoding for State\n",
    "\n",
    "from pyspark.sql.functions import col, count\n",
    "\n",
    "# Calculate the frequency of each state\n",
    "state_freq = data_indexed.groupBy(\"State\").agg(count(\"State\").alias(\"StateFrequency\"))\n",
    "\n",
    "# Join the frequency counts with the original DataFrame\n",
    "data_encoded_state = data_indexed.join(state_freq, on=\"State\", how=\"left\")\n",
    "\n",
    "# Display the result\n",
    "data_encoded_state.select([\"State\", \"StateFrequency\"]).show(10, truncate=False)\n",
    "\n"
   ]
  },
  {
   "cell_type": "code",
   "execution_count": 100,
   "id": "1f611fc1",
   "metadata": {},
   "outputs": [
    {
     "name": "stdout",
     "output_type": "stream",
     "text": [
      "+-------------+------------------+\n",
      "|GeneralHealth|GeneralHealthIndex|\n",
      "+-------------+------------------+\n",
      "|Very good    |1                 |\n",
      "|Poor         |4                 |\n",
      "|Poor         |4                 |\n",
      "|Fair         |3                 |\n",
      "|Poor         |4                 |\n",
      "|Poor         |4                 |\n",
      "|Good         |2                 |\n",
      "|Good         |2                 |\n",
      "|Fair         |3                 |\n",
      "|Good         |2                 |\n",
      "+-------------+------------------+\n",
      "only showing top 10 rows\n",
      "\n"
     ]
    }
   ],
   "source": [
    "#Ordinal Encoding for GeneralHealth\n",
    "\n",
    "from pyspark.sql.functions import trim, when, col\n",
    "\n",
    "# Trim leading and trailing whitespace from GeneralHealth\n",
    "data_indexed = data_indexed.withColumn(\"GeneralHealth\", trim(col(\"GeneralHealth\")))\n",
    "\n",
    "# Apply ordinal encoding with updated conditions\n",
    "data_encoded_general_health = data_indexed.withColumn(\n",
    "    \"GeneralHealthIndex\",\n",
    "    when(col(\"GeneralHealth\") == \"Excellent\", 0)\n",
    "    .when(col(\"GeneralHealth\") == \"Very good\", 1)  # Corrected value\n",
    "    .when(col(\"GeneralHealth\") == \"Good\", 2)\n",
    "    .when(col(\"GeneralHealth\") == \"Fair\", 3)\n",
    "    .when(col(\"GeneralHealth\") == \"Poor\", 4)\n",
    "    .otherwise(None)\n",
    ")\n",
    "\n",
    "# Show the results to verify\n",
    "data_encoded_general_health.select([\"GeneralHealth\", \"GeneralHealthIndex\"]).show(10, truncate=False)\n"
   ]
  },
  {
   "cell_type": "code",
   "execution_count": 115,
   "id": "d1a85687",
   "metadata": {},
   "outputs": [
    {
     "name": "stdout",
     "output_type": "stream",
     "text": [
      "+-------------------------------------------------------+\n",
      "|LastCheckupTime                                        |\n",
      "+-------------------------------------------------------+\n",
      "|5 or more years ago                                    |\n",
      "|Within past year (anytime less than 12 months ago)     |\n",
      "|Within past 5 years (2 years but less than 5 years ago)|\n",
      "|Within past 2 years (1 year but less than 2 years ago) |\n",
      "+-------------------------------------------------------+\n",
      "\n"
     ]
    }
   ],
   "source": [
    "# Find distinct values in the LastCheckupTime column\n",
    "distinct_checkup_times = data_indexed.select(\"LastCheckupTime\").distinct()\n",
    "\n",
    "# Show the distinct values\n",
    "distinct_checkup_times.show(truncate=False)\n"
   ]
  },
  {
   "cell_type": "code",
   "execution_count": 121,
   "id": "5651e324",
   "metadata": {},
   "outputs": [
    {
     "name": "stdout",
     "output_type": "stream",
     "text": [
      "+-------------------------------------------------------+--------------------+\n",
      "|LastCheckupTime                                        |LastCheckupTimeIndex|\n",
      "+-------------------------------------------------------+--------------------+\n",
      "|5 or more years ago                                    |5.0                 |\n",
      "|Within past year (anytime less than 12 months ago)     |0.0                 |\n",
      "|Within past year (anytime less than 12 months ago)     |0.0                 |\n",
      "|Within past year (anytime less than 12 months ago)     |0.0                 |\n",
      "|Within past 5 years (2 years but less than 5 years ago)|3.5                 |\n",
      "|Within past 2 years (1 year but less than 2 years ago) |1.5                 |\n",
      "|Within past year (anytime less than 12 months ago)     |0.0                 |\n",
      "|Within past year (anytime less than 12 months ago)     |0.0                 |\n",
      "|Within past year (anytime less than 12 months ago)     |0.0                 |\n",
      "|Within past year (anytime less than 12 months ago)     |0.0                 |\n",
      "|Within past year (anytime less than 12 months ago)     |0.0                 |\n",
      "|Within past year (anytime less than 12 months ago)     |0.0                 |\n",
      "|Within past year (anytime less than 12 months ago)     |0.0                 |\n",
      "|5 or more years ago                                    |5.0                 |\n",
      "|Within past 5 years (2 years but less than 5 years ago)|3.5                 |\n",
      "|5 or more years ago                                    |5.0                 |\n",
      "|Within past year (anytime less than 12 months ago)     |0.0                 |\n",
      "|Within past 2 years (1 year but less than 2 years ago) |1.5                 |\n",
      "|Within past 2 years (1 year but less than 2 years ago) |1.5                 |\n",
      "|Within past year (anytime less than 12 months ago)     |0.0                 |\n",
      "+-------------------------------------------------------+--------------------+\n",
      "only showing top 20 rows\n",
      "\n"
     ]
    }
   ],
   "source": [
    "from pyspark.sql.functions import col, when\n",
    "\n",
    "# Define the mean values for the intervals using `when` and `otherwise`\n",
    "data_encoded_checkup = data_indexed.withColumn(\n",
    "    \"LastCheckupTimeIndex\",\n",
    "    when(col(\"LastCheckupTime\") == \"5 or more years ago\", 5.0)\n",
    "    .when(col(\"LastCheckupTime\") == \"Within past year (anytime less than 12 months ago)\", 0.0)\n",
    "    .when(col(\"LastCheckupTime\") == \"Within past 5 years (2 years but less than 5 years ago)\", 3.5)\n",
    "    .when(col(\"LastCheckupTime\") == \"Within past 2 years (1 year but less than 2 years ago)\", 1.5)\n",
    "    .otherwise(None)\n",
    ")\n",
    "\n",
    "# Display the result\n",
    "data_encoded_checkup.select([\"LastCheckupTime\", \"LastCheckupTimeIndex\"]).show(20, truncate=False)\n"
   ]
  },
  {
   "cell_type": "code",
   "execution_count": 122,
   "id": "b43fd8ef",
   "metadata": {},
   "outputs": [
    {
     "name": "stdout",
     "output_type": "stream",
     "text": [
      "+-------------------------------------+---------------+\n",
      "|SmokerStatus                         |SmokerStatusVec|\n",
      "+-------------------------------------+---------------+\n",
      "|Never smoked                         |(3,[0],[1.0])  |\n",
      "|Never smoked                         |(3,[0],[1.0])  |\n",
      "|Never smoked                         |(3,[0],[1.0])  |\n",
      "|Never smoked                         |(3,[0],[1.0])  |\n",
      "|Never smoked                         |(3,[0],[1.0])  |\n",
      "|Never smoked                         |(3,[0],[1.0])  |\n",
      "|Former smoker                        |(3,[1],[1.0])  |\n",
      "|Never smoked                         |(3,[0],[1.0])  |\n",
      "|Current smoker - now smokes every day|(3,[2],[1.0])  |\n",
      "|Current smoker - now smokes every day|(3,[2],[1.0])  |\n",
      "+-------------------------------------+---------------+\n",
      "only showing top 10 rows\n",
      "\n"
     ]
    }
   ],
   "source": [
    "#OneHot encoding for smoker status \n",
    "\n",
    "from pyspark.ml.feature import OneHotEncoder\n",
    "\n",
    "# String indexer for SmokerStatus\n",
    "smoker_status_indexer = StringIndexer(\n",
    "    inputCol=\"SmokerStatus\", \n",
    "    outputCol=\"SmokerStatusIndex\"\n",
    ")\n",
    "\n",
    "data_encoded_smoker_status = smoker_status_indexer.fit(data_encoded_checkup).transform(data_encoded_checkup)\n",
    "\n",
    "# One-Hot Encoder for SmokerStatus\n",
    "smoker_status_encoder = OneHotEncoder(\n",
    "    inputCols=[\"SmokerStatusIndex\"],\n",
    "    outputCols=[\"SmokerStatusVec\"]\n",
    ")\n",
    "\n",
    "data_encoded_smoker_status = smoker_status_encoder.fit(data_encoded_smoker_status).transform(data_encoded_smoker_status)\n",
    "\n",
    "# Display the result\n",
    "data_encoded_smoker_status.select([\"SmokerStatus\", \"SmokerStatusVec\"]).show(10, truncate=False)\n"
   ]
  },
  {
   "cell_type": "code",
   "execution_count": 123,
   "id": "9f9e6847",
   "metadata": {},
   "outputs": [
    {
     "name": "stdout",
     "output_type": "stream",
     "text": [
      "+---------------+--------------+\n",
      "|AgeCategory    |AgeCategoryVec|\n",
      "+---------------+--------------+\n",
      "|Age 55 to 59   |(12,[3],[1.0])|\n",
      "|Age 55 to 59   |(12,[3],[1.0])|\n",
      "|Age 80 or older|(12,[6],[1.0])|\n",
      "|Age 70 to 74   |(12,[2],[1.0])|\n",
      "|Age 35 to 39   |(12,[9],[1.0])|\n",
      "|Age 70 to 74   |(12,[2],[1.0])|\n",
      "|Age 80 or older|(12,[6],[1.0])|\n",
      "|Age 70 to 74   |(12,[2],[1.0])|\n",
      "|Age 55 to 59   |(12,[3],[1.0])|\n",
      "|Age 35 to 39   |(12,[9],[1.0])|\n",
      "+---------------+--------------+\n",
      "only showing top 10 rows\n",
      "\n"
     ]
    }
   ],
   "source": [
    "# one hot for AgeCategory\n",
    "age_category_indexer = StringIndexer(\n",
    "    inputCol=\"AgeCategory\", \n",
    "    outputCol=\"AgeCategoryIndex\"\n",
    ")\n",
    "\n",
    "data_encoded_age_category = age_category_indexer.fit(data_encoded_smoker_status).transform(data_encoded_smoker_status)\n",
    "\n",
    "# One-Hot Encoder for AgeCategory\n",
    "age_category_encoder = OneHotEncoder(\n",
    "    inputCols=[\"AgeCategoryIndex\"],\n",
    "    outputCols=[\"AgeCategoryVec\"]\n",
    ")\n",
    "\n",
    "data_encoded_age_category = age_category_encoder.fit(data_encoded_age_category).transform(data_encoded_age_category)\n",
    "\n",
    "# Display the result\n",
    "data_encoded_age_category.select([\"AgeCategory\", \"AgeCategoryVec\"]).show(10, truncate=False)\n"
   ]
  },
  {
   "cell_type": "code",
   "execution_count": null,
   "id": "a59545e8",
   "metadata": {},
   "outputs": [],
   "source": []
  }
 ],
 "metadata": {
  "kernelspec": {
   "display_name": "Python 3 (ipykernel)",
   "language": "python",
   "name": "python3"
  },
  "language_info": {
   "codemirror_mode": {
    "name": "ipython",
    "version": 3
   },
   "file_extension": ".py",
   "mimetype": "text/x-python",
   "name": "python",
   "nbconvert_exporter": "python",
   "pygments_lexer": "ipython3",
   "version": "3.11.5"
  }
 },
 "nbformat": 4,
 "nbformat_minor": 5
}
